{
 "cells": [
  {
   "cell_type": "code",
   "execution_count": 1,
   "metadata": {},
   "outputs": [],
   "source": [
    "import pandas as pd\n",
    "import numpy as np\n",
    "import time\n",
    "import re\n",
    "import string\n",
    "from vaderSentiment.vaderSentiment import SentimentIntensityAnalyzer\n",
    "import nltk as nltk\n",
    "from nltk.corpus import stopwords\n",
    "from nltk.stem import WordNetLemmatizer\n",
    "from sklearn.feature_extraction.text import TfidfVectorizer, CountVectorizer\n",
    "from sklearn.decomposition import LatentDirichletAllocation\n",
    "import matplotlib.pyplot as plt"
   ]
  },
  {
   "cell_type": "code",
   "execution_count": 2,
   "metadata": {},
   "outputs": [],
   "source": [
    "# Viewing settings\n",
    "pd.set_option('display.max_rows', None)\n",
    "pd.set_option('display.max_columns', None)\n",
    "pd.set_option('display.width', None)\n",
    "pd.set_option('display.max_colwidth', None)"
   ]
  },
  {
   "cell_type": "code",
   "execution_count": 3,
   "metadata": {},
   "outputs": [],
   "source": [
    "# Filters\n",
    "DC_filter = ['cummings']\n",
    "MC_filter = ['matthancock', 'matt hancock']"
   ]
  },
  {
   "cell_type": "code",
   "execution_count": 4,
   "metadata": {},
   "outputs": [],
   "source": [
    "def filter_data(data, filters = MC_filter):\n",
    "    #Function to filter the weekly data to UK tweets only\n",
    "    \n",
    "    #First filter by language to english only\n",
    "    data = data.loc[data['lang'].str.contains('en', na=False)]\n",
    "    print(\"there are \", len(data), \"english tweets\")\n",
    "    \n",
    "    #Next filter by dominic cummings/matt hancock related tweets using the keywords list\n",
    "    data = data.loc[data['text'].str.contains('|'.join(filters), na=False)]\n",
    "    \n",
    "    #Reset index\n",
    "    data.reset_index(drop=True, inplace=True)\n",
    "    \n",
    "    return data\n",
    "\n",
    "# Now performing the actual filtering, language filtered by english and user.location based on a list of cities/country names defined from UK Cities List"
   ]
  },
  {
   "cell_type": "markdown",
   "metadata": {},
   "source": [
    "## Loading the data"
   ]
  },
  {
   "cell_type": "code",
   "execution_count": 5,
   "metadata": {},
   "outputs": [
    {
     "data": {
      "text/html": [
       "<div>\n",
       "<style scoped>\n",
       "    .dataframe tbody tr th:only-of-type {\n",
       "        vertical-align: middle;\n",
       "    }\n",
       "\n",
       "    .dataframe tbody tr th {\n",
       "        vertical-align: top;\n",
       "    }\n",
       "\n",
       "    .dataframe thead th {\n",
       "        text-align: right;\n",
       "    }\n",
       "</style>\n",
       "<table border=\"1\" class=\"dataframe\">\n",
       "  <thead>\n",
       "    <tr style=\"text-align: right;\">\n",
       "      <th></th>\n",
       "      <th>created_at</th>\n",
       "      <th>lang</th>\n",
       "      <th>text</th>\n",
       "      <th>user.location</th>\n",
       "    </tr>\n",
       "  </thead>\n",
       "  <tbody>\n",
       "    <tr>\n",
       "      <th>3245342</th>\n",
       "      <td>2021-07-04 00:00:00+00:00</td>\n",
       "      <td>es</td>\n",
       "      <td>RT @signofthewxlls: hola de nuevoo, soy martu/tinchu. tengo 15 y soy de argentina,, staneo a louis y harry desde 2017 más o menos. just lik…</td>\n",
       "      <td>mirando skins con giu</td>\n",
       "    </tr>\n",
       "    <tr>\n",
       "      <th>3245343</th>\n",
       "      <td>2021-07-04 00:00:00+00:00</td>\n",
       "      <td>en</td>\n",
       "      <td>\"Stage Training | Fear of Speaking in Singapore Now Due to Corona Virus Outbreak\"\\n\\nWatch Now: https://t.co/5tOm0u8gwP</td>\n",
       "      <td>Singapore</td>\n",
       "    </tr>\n",
       "    <tr>\n",
       "      <th>3245344</th>\n",
       "      <td>2021-07-04 00:00:00+00:00</td>\n",
       "      <td>es</td>\n",
       "      <td>Capacitación | Soporte técnico | Licencias \\nEmilio Carranza #875 Esquina Ramon Corona  c.p.25000\\n{844} 4104070 - 41… https://t.co/CeNiWdi27y</td>\n",
       "      <td>Saltillo, Coahuila</td>\n",
       "    </tr>\n",
       "    <tr>\n",
       "      <th>3245345</th>\n",
       "      <td>2021-07-04 00:00:00+00:00</td>\n",
       "      <td>es</td>\n",
       "      <td>¡Hola!, solo un recordatorio de que ya falta una hora menos para que Piñera se vaya del gobierno 😉. Para ser exacto… https://t.co/m6MjaCQRAQ</td>\n",
       "      <td>Santiago, Chile</td>\n",
       "    </tr>\n",
       "    <tr>\n",
       "      <th>3245346</th>\n",
       "      <td>2021-07-04 00:00:00+00:00</td>\n",
       "      <td>en</td>\n",
       "      <td>RT @davidlparsons: We ran out of prison slaves to put out the climate change wildfires because of the pandemic https://t.co/gBVrAUmzJk</td>\n",
       "      <td>NaN</td>\n",
       "    </tr>\n",
       "  </tbody>\n",
       "</table>\n",
       "</div>"
      ],
      "text/plain": [
       "                       created_at lang  \\\n",
       "3245342 2021-07-04 00:00:00+00:00   es   \n",
       "3245343 2021-07-04 00:00:00+00:00   en   \n",
       "3245344 2021-07-04 00:00:00+00:00   es   \n",
       "3245345 2021-07-04 00:00:00+00:00   es   \n",
       "3245346 2021-07-04 00:00:00+00:00   en   \n",
       "\n",
       "                                                                                                                                                   text  \\\n",
       "3245342    RT @signofthewxlls: hola de nuevoo, soy martu/tinchu. tengo 15 y soy de argentina,, staneo a louis y harry desde 2017 más o menos. just lik…   \n",
       "3245343                         \"Stage Training | Fear of Speaking in Singapore Now Due to Corona Virus Outbreak\"\\n\\nWatch Now: https://t.co/5tOm0u8gwP   \n",
       "3245344  Capacitación | Soporte técnico | Licencias \\nEmilio Carranza #875 Esquina Ramon Corona  c.p.25000\\n{844} 4104070 - 41… https://t.co/CeNiWdi27y   \n",
       "3245345    ¡Hola!, solo un recordatorio de que ya falta una hora menos para que Piñera se vaya del gobierno 😉. Para ser exacto… https://t.co/m6MjaCQRAQ   \n",
       "3245346          RT @davidlparsons: We ran out of prison slaves to put out the climate change wildfires because of the pandemic https://t.co/gBVrAUmzJk   \n",
       "\n",
       "                 user.location  \n",
       "3245342  mirando skins con giu  \n",
       "3245343              Singapore  \n",
       "3245344     Saltillo, Coahuila  \n",
       "3245345        Santiago, Chile  \n",
       "3245346                    NaN  "
      ]
     },
     "execution_count": 5,
     "metadata": {},
     "output_type": "execute_result"
    }
   ],
   "source": [
    "this_data = pd.read_pickle('/Users/brandon/Documents/UCL/Project/COVID Project/Data/MC_Data_Week_2')\n",
    "this_data.head(5)"
   ]
  },
  {
   "cell_type": "code",
   "execution_count": 6,
   "metadata": {},
   "outputs": [
    {
     "name": "stdout",
     "output_type": "stream",
     "text": [
      "7098688\n"
     ]
    }
   ],
   "source": [
    "print(len(this_data))"
   ]
  },
  {
   "cell_type": "markdown",
   "metadata": {},
   "source": [
    "## Filtering the data"
   ]
  },
  {
   "cell_type": "code",
   "execution_count": 7,
   "metadata": {},
   "outputs": [
    {
     "name": "stdout",
     "output_type": "stream",
     "text": [
      "there are  4731193 english tweets\n"
     ]
    },
    {
     "data": {
      "text/html": [
       "<div>\n",
       "<style scoped>\n",
       "    .dataframe tbody tr th:only-of-type {\n",
       "        vertical-align: middle;\n",
       "    }\n",
       "\n",
       "    .dataframe tbody tr th {\n",
       "        vertical-align: top;\n",
       "    }\n",
       "\n",
       "    .dataframe thead th {\n",
       "        text-align: right;\n",
       "    }\n",
       "</style>\n",
       "<table border=\"1\" class=\"dataframe\">\n",
       "  <thead>\n",
       "    <tr style=\"text-align: right;\">\n",
       "      <th></th>\n",
       "      <th>created_at</th>\n",
       "      <th>lang</th>\n",
       "      <th>text</th>\n",
       "      <th>user.location</th>\n",
       "    </tr>\n",
       "  </thead>\n",
       "  <tbody>\n",
       "    <tr>\n",
       "      <th>0</th>\n",
       "      <td>2021-07-04 02:36:53+00:00</td>\n",
       "      <td>en</td>\n",
       "      <td>RT @inelliegant: matt hancock's next job could be in cyber (he just doesn't know it yet)</td>\n",
       "      <td>NaN</td>\n",
       "    </tr>\n",
       "    <tr>\n",
       "      <th>1</th>\n",
       "      <td>2021-07-04 07:19:38+00:00</td>\n",
       "      <td>en</td>\n",
       "      <td>@Lord_Sugar Glad to see someone agrees Liz, matt hancock. Was Good at rolling words off his tongue, he didn't have… https://t.co/Wowa6JVe3s</td>\n",
       "      <td>Plymouth, England</td>\n",
       "    </tr>\n",
       "    <tr>\n",
       "      <th>2</th>\n",
       "      <td>2021-07-04 09:06:09+00:00</td>\n",
       "      <td>en</td>\n",
       "      <td>@sajidjavid I see we got an upgrade over matt hancock 🤓</td>\n",
       "      <td>NaN</td>\n",
       "    </tr>\n",
       "    <tr>\n",
       "      <th>3</th>\n",
       "      <td>2021-07-04 10:17:28+00:00</td>\n",
       "      <td>en</td>\n",
       "      <td>Lols 😆 #socialdistance #hancock #memes #matthancock #thewhitecross #londonbylondoners #richmond #summerinlondon… https://t.co/f8lXp90ZMd</td>\n",
       "      <td>London</td>\n",
       "    </tr>\n",
       "    <tr>\n",
       "      <th>4</th>\n",
       "      <td>2021-07-04 11:04:21+00:00</td>\n",
       "      <td>en</td>\n",
       "      <td>RT @hassxn7: if matt hancock can get 2 women, maybe i won't die single after all.</td>\n",
       "      <td>17yrs of denying my existence</td>\n",
       "    </tr>\n",
       "  </tbody>\n",
       "</table>\n",
       "</div>"
      ],
      "text/plain": [
       "                 created_at lang  \\\n",
       "0 2021-07-04 02:36:53+00:00   en   \n",
       "1 2021-07-04 07:19:38+00:00   en   \n",
       "2 2021-07-04 09:06:09+00:00   en   \n",
       "3 2021-07-04 10:17:28+00:00   en   \n",
       "4 2021-07-04 11:04:21+00:00   en   \n",
       "\n",
       "                                                                                                                                          text  \\\n",
       "0                                                     RT @inelliegant: matt hancock's next job could be in cyber (he just doesn't know it yet)   \n",
       "1  @Lord_Sugar Glad to see someone agrees Liz, matt hancock. Was Good at rolling words off his tongue, he didn't have… https://t.co/Wowa6JVe3s   \n",
       "2                                                                                      @sajidjavid I see we got an upgrade over matt hancock 🤓   \n",
       "3     Lols 😆 #socialdistance #hancock #memes #matthancock #thewhitecross #londonbylondoners #richmond #summerinlondon… https://t.co/f8lXp90ZMd   \n",
       "4                                                            RT @hassxn7: if matt hancock can get 2 women, maybe i won't die single after all.   \n",
       "\n",
       "                   user.location  \n",
       "0                            NaN  \n",
       "1              Plymouth, England  \n",
       "2                            NaN  \n",
       "3                         London  \n",
       "4  17yrs of denying my existence  "
      ]
     },
     "execution_count": 7,
     "metadata": {},
     "output_type": "execute_result"
    }
   ],
   "source": [
    "this_data = filter_data(this_data)\n",
    "this_data.head(5)"
   ]
  },
  {
   "cell_type": "code",
   "execution_count": 8,
   "metadata": {},
   "outputs": [
    {
     "name": "stdout",
     "output_type": "stream",
     "text": [
      "115\n"
     ]
    }
   ],
   "source": [
    "print(len(this_data))"
   ]
  },
  {
   "cell_type": "markdown",
   "metadata": {},
   "source": [
    "## Clean Tweets for Sentiment Analysis"
   ]
  },
  {
   "cell_type": "code",
   "execution_count": 9,
   "metadata": {},
   "outputs": [],
   "source": [
    "def remove_pattern(input_txt, pattern):\n",
    "    \"\"\"Function to help remove tweet specific patterns\"\"\"\n",
    "    r = re.findall(pattern, input_txt)\n",
    "    for i in r:\n",
    "        input_txt = re.sub(i, '', input_txt)        \n",
    "    return input_txt"
   ]
  },
  {
   "cell_type": "code",
   "execution_count": 10,
   "metadata": {},
   "outputs": [],
   "source": [
    "def clean_tweets(tweets):\n",
    "    \"\"\"Function to clean tweets specifically as they contain certain patterns and formats different to a normal sentence\"\"\"\n",
    "    #remove twitter Return handles (RT @xxx:)\n",
    "    tweets = np.vectorize(remove_pattern)(tweets, \"RT @[\\w]*:\") \n",
    "    \n",
    "    #remove twitter handles (@xxx)\n",
    "    tweets = np.vectorize(remove_pattern)(tweets, \"@[\\w]*\")\n",
    "    \n",
    "    #remove URL links (httpxxx)\n",
    "    tweets = np.vectorize(remove_pattern)(tweets, \"https?://[A-Za-z0-9./]*\")\n",
    "    \n",
    "    #remove special characters, numbers, punctuations (except for #)\n",
    "    tweets = np.core.defchararray.replace(tweets, \"[^a-zA-Z]\", \" \")\n",
    "    \n",
    "    return tweets"
   ]
  },
  {
   "cell_type": "code",
   "execution_count": 11,
   "metadata": {},
   "outputs": [
    {
     "data": {
      "text/html": [
       "<div>\n",
       "<style scoped>\n",
       "    .dataframe tbody tr th:only-of-type {\n",
       "        vertical-align: middle;\n",
       "    }\n",
       "\n",
       "    .dataframe tbody tr th {\n",
       "        vertical-align: top;\n",
       "    }\n",
       "\n",
       "    .dataframe thead th {\n",
       "        text-align: right;\n",
       "    }\n",
       "</style>\n",
       "<table border=\"1\" class=\"dataframe\">\n",
       "  <thead>\n",
       "    <tr style=\"text-align: right;\">\n",
       "      <th></th>\n",
       "      <th>created_at</th>\n",
       "      <th>lang</th>\n",
       "      <th>text</th>\n",
       "      <th>user.location</th>\n",
       "      <th>clean_tweet</th>\n",
       "    </tr>\n",
       "  </thead>\n",
       "  <tbody>\n",
       "    <tr>\n",
       "      <th>0</th>\n",
       "      <td>2021-07-04 02:36:53+00:00</td>\n",
       "      <td>en</td>\n",
       "      <td>RT @inelliegant: matt hancock's next job could be in cyber (he just doesn't know it yet)</td>\n",
       "      <td>NaN</td>\n",
       "      <td>matt hancock's next job could be in cyber (he just doesn't know it yet)</td>\n",
       "    </tr>\n",
       "    <tr>\n",
       "      <th>1</th>\n",
       "      <td>2021-07-04 07:19:38+00:00</td>\n",
       "      <td>en</td>\n",
       "      <td>@Lord_Sugar Glad to see someone agrees Liz, matt hancock. Was Good at rolling words off his tongue, he didn't have… https://t.co/Wowa6JVe3s</td>\n",
       "      <td>Plymouth, England</td>\n",
       "      <td>Glad to see someone agrees Liz, matt hancock. Was Good at rolling words off his tongue, he didn't have…</td>\n",
       "    </tr>\n",
       "    <tr>\n",
       "      <th>2</th>\n",
       "      <td>2021-07-04 09:06:09+00:00</td>\n",
       "      <td>en</td>\n",
       "      <td>@sajidjavid I see we got an upgrade over matt hancock 🤓</td>\n",
       "      <td>NaN</td>\n",
       "      <td>I see we got an upgrade over matt hancock 🤓</td>\n",
       "    </tr>\n",
       "    <tr>\n",
       "      <th>3</th>\n",
       "      <td>2021-07-04 10:17:28+00:00</td>\n",
       "      <td>en</td>\n",
       "      <td>Lols 😆 #socialdistance #hancock #memes #matthancock #thewhitecross #londonbylondoners #richmond #summerinlondon… https://t.co/f8lXp90ZMd</td>\n",
       "      <td>London</td>\n",
       "      <td>Lols 😆 #socialdistance #hancock #memes #matthancock #thewhitecross #londonbylondoners #richmond #summerinlondon…</td>\n",
       "    </tr>\n",
       "    <tr>\n",
       "      <th>4</th>\n",
       "      <td>2021-07-04 11:04:21+00:00</td>\n",
       "      <td>en</td>\n",
       "      <td>RT @hassxn7: if matt hancock can get 2 women, maybe i won't die single after all.</td>\n",
       "      <td>17yrs of denying my existence</td>\n",
       "      <td>if matt hancock can get 2 women, maybe i won't die single after all.</td>\n",
       "    </tr>\n",
       "    <tr>\n",
       "      <th>5</th>\n",
       "      <td>2021-07-04 13:58:57+00:00</td>\n",
       "      <td>en</td>\n",
       "      <td>RT @dandouglas: thinking about reinstalling duke nukem 3D to recreate matt hancock’s office in the build engine featuring a working securit…</td>\n",
       "      <td>UK</td>\n",
       "      <td>thinking about reinstalling duke nukem 3D to recreate matt hancock’s office in the build engine featuring a working securit…</td>\n",
       "    </tr>\n",
       "    <tr>\n",
       "      <th>6</th>\n",
       "      <td>2021-07-04 14:17:25+00:00</td>\n",
       "      <td>en</td>\n",
       "      <td>Me: mum, can I have matt hancock?\\n\\nMum: we have matt hancock at home\\n\\nThe matt hancock at home:</td>\n",
       "      <td>Gammonville, Normal Island</td>\n",
       "      <td>Me: mum, can I have matt hancock?\\n\\nMum: we have matt hancock at home\\n\\nThe matt hancock at home:</td>\n",
       "    </tr>\n",
       "    <tr>\n",
       "      <th>7</th>\n",
       "      <td>2021-07-04 16:49:12+00:00</td>\n",
       "      <td>en</td>\n",
       "      <td>RT @CamillaTominey: The flailing PM has lost touch with the British public... my column this week #matthancock #covid #Lockdown #BatleyAndS…</td>\n",
       "      <td>London</td>\n",
       "      <td>The flailing PM has lost touch with the British public... my column this week #matthancock #covid #Lockdown #BatleyAndS…</td>\n",
       "    </tr>\n",
       "    <tr>\n",
       "      <th>8</th>\n",
       "      <td>2021-07-04 16:49:35+00:00</td>\n",
       "      <td>en</td>\n",
       "      <td>RT @Jimlong26: @johnredwood Maybe you should ask your government about this and matt hancock about midzallan he ordered from france .. in v…</td>\n",
       "      <td>North East Uk</td>\n",
       "      <td>Maybe you should ask your government about this and matt hancock about midzallan he ordered from france .. in v…</td>\n",
       "    </tr>\n",
       "    <tr>\n",
       "      <th>9</th>\n",
       "      <td>2021-07-04 19:37:10+00:00</td>\n",
       "      <td>en</td>\n",
       "      <td>@PoliticsForAlI I should think so too after matt hancock's little hoo har!!</td>\n",
       "      <td>ℓση∂ση</td>\n",
       "      <td>I should think so too after matt hancock's little hoo har!!</td>\n",
       "    </tr>\n",
       "  </tbody>\n",
       "</table>\n",
       "</div>"
      ],
      "text/plain": [
       "                 created_at lang  \\\n",
       "0 2021-07-04 02:36:53+00:00   en   \n",
       "1 2021-07-04 07:19:38+00:00   en   \n",
       "2 2021-07-04 09:06:09+00:00   en   \n",
       "3 2021-07-04 10:17:28+00:00   en   \n",
       "4 2021-07-04 11:04:21+00:00   en   \n",
       "5 2021-07-04 13:58:57+00:00   en   \n",
       "6 2021-07-04 14:17:25+00:00   en   \n",
       "7 2021-07-04 16:49:12+00:00   en   \n",
       "8 2021-07-04 16:49:35+00:00   en   \n",
       "9 2021-07-04 19:37:10+00:00   en   \n",
       "\n",
       "                                                                                                                                           text  \\\n",
       "0                                                      RT @inelliegant: matt hancock's next job could be in cyber (he just doesn't know it yet)   \n",
       "1   @Lord_Sugar Glad to see someone agrees Liz, matt hancock. Was Good at rolling words off his tongue, he didn't have… https://t.co/Wowa6JVe3s   \n",
       "2                                                                                       @sajidjavid I see we got an upgrade over matt hancock 🤓   \n",
       "3      Lols 😆 #socialdistance #hancock #memes #matthancock #thewhitecross #londonbylondoners #richmond #summerinlondon… https://t.co/f8lXp90ZMd   \n",
       "4                                                             RT @hassxn7: if matt hancock can get 2 women, maybe i won't die single after all.   \n",
       "5  RT @dandouglas: thinking about reinstalling duke nukem 3D to recreate matt hancock’s office in the build engine featuring a working securit…   \n",
       "6                                           Me: mum, can I have matt hancock?\\n\\nMum: we have matt hancock at home\\n\\nThe matt hancock at home:   \n",
       "7  RT @CamillaTominey: The flailing PM has lost touch with the British public... my column this week #matthancock #covid #Lockdown #BatleyAndS…   \n",
       "8  RT @Jimlong26: @johnredwood Maybe you should ask your government about this and matt hancock about midzallan he ordered from france .. in v…   \n",
       "9                                                                   @PoliticsForAlI I should think so too after matt hancock's little hoo har!!   \n",
       "\n",
       "                   user.location  \\\n",
       "0                            NaN   \n",
       "1              Plymouth, England   \n",
       "2                            NaN   \n",
       "3                         London   \n",
       "4  17yrs of denying my existence   \n",
       "5                             UK   \n",
       "6     Gammonville, Normal Island   \n",
       "7                         London   \n",
       "8                  North East Uk   \n",
       "9                         ℓση∂ση   \n",
       "\n",
       "                                                                                                                     clean_tweet  \n",
       "0                                                        matt hancock's next job could be in cyber (he just doesn't know it yet)  \n",
       "1                       Glad to see someone agrees Liz, matt hancock. Was Good at rolling words off his tongue, he didn't have…   \n",
       "2                                                                                    I see we got an upgrade over matt hancock 🤓  \n",
       "3              Lols 😆 #socialdistance #hancock #memes #matthancock #thewhitecross #londonbylondoners #richmond #summerinlondon…   \n",
       "4                                                           if matt hancock can get 2 women, maybe i won't die single after all.  \n",
       "5   thinking about reinstalling duke nukem 3D to recreate matt hancock’s office in the build engine featuring a working securit…  \n",
       "6                            Me: mum, can I have matt hancock?\\n\\nMum: we have matt hancock at home\\n\\nThe matt hancock at home:  \n",
       "7       The flailing PM has lost touch with the British public... my column this week #matthancock #covid #Lockdown #BatleyAndS…  \n",
       "8               Maybe you should ask your government about this and matt hancock about midzallan he ordered from france .. in v…  \n",
       "9                                                                    I should think so too after matt hancock's little hoo har!!  "
      ]
     },
     "execution_count": 11,
     "metadata": {},
     "output_type": "execute_result"
    }
   ],
   "source": [
    "#Cleaning the tweets\n",
    "this_data['clean_tweet'] = clean_tweets(this_data['text'])\n",
    "this_data.head(10)"
   ]
  },
  {
   "cell_type": "code",
   "execution_count": 12,
   "metadata": {},
   "outputs": [
    {
     "name": "stdout",
     "output_type": "stream",
     "text": [
      "0\n",
      "1\n",
      "2\n",
      "3\n",
      "4\n",
      "5\n",
      "6\n",
      "7\n",
      "8\n",
      "9\n",
      "10\n",
      "11\n",
      "12\n",
      "13\n",
      "14\n",
      "15\n",
      "16\n",
      "17\n",
      "18\n",
      "19\n",
      "20\n",
      "21\n",
      "22\n",
      "23\n",
      "24\n",
      "25\n",
      "26\n",
      "27\n",
      "28\n",
      "29\n",
      "30\n",
      "31\n",
      "32\n",
      "33\n",
      "34\n",
      "35\n",
      "36\n",
      "37\n",
      "38\n",
      "39\n",
      "40\n",
      "41\n",
      "42\n",
      "43\n",
      "44\n",
      "45\n",
      "46\n",
      "47\n",
      "48\n",
      "49\n",
      "50\n",
      "51\n",
      "52\n",
      "53\n",
      "54\n",
      "55\n",
      "56\n",
      "57\n",
      "58\n",
      "59\n",
      "60\n",
      "61\n",
      "62\n",
      "63\n",
      "64\n",
      "65\n",
      "66\n",
      "67\n",
      "68\n",
      "69\n",
      "70\n",
      "71\n",
      "72\n",
      "73\n",
      "74\n",
      "75\n",
      "76\n",
      "77\n",
      "78\n",
      "79\n",
      "80\n",
      "81\n",
      "82\n",
      "83\n",
      "84\n",
      "85\n",
      "86\n",
      "87\n",
      "88\n",
      "89\n",
      "90\n",
      "91\n",
      "92\n",
      "93\n",
      "94\n",
      "95\n",
      "96\n",
      "97\n",
      "98\n",
      "99\n",
      "100\n",
      "101\n",
      "102\n",
      "103\n",
      "104\n",
      "105\n",
      "106\n",
      "107\n",
      "108\n",
      "109\n",
      "110\n",
      "111\n",
      "112\n",
      "113\n",
      "114\n"
     ]
    }
   ],
   "source": [
    "#Compute sentiments\n",
    "analyser = SentimentIntensityAnalyzer()\n",
    "scores = []\n",
    "\n",
    "for i in range(this_data['clean_tweet'].shape[0]):\n",
    "    print(i)\n",
    "    compound = analyser.polarity_scores(this_data['clean_tweet'][i])[\"compound\"]\n",
    "    pos = analyser.polarity_scores(this_data['clean_tweet'][i])[\"pos\"]\n",
    "    neu = analyser.polarity_scores(this_data['clean_tweet'][i])[\"neu\"]\n",
    "    neg = analyser.polarity_scores(this_data['clean_tweet'][i])[\"neg\"]\n",
    "    \n",
    "    if compound >= 0.05:\n",
    "        senti = 'positive'\n",
    "    elif compound <= -0.05:\n",
    "        senti = 'negative'\n",
    "    else:\n",
    "        senti = 'neutral'\n",
    "    \n",
    "    scores.append({\"Compound\": compound,\n",
    "                       \"Positive\": pos,\n",
    "                       \"Negative\": neg,\n",
    "                       \"Neutral\": neu,\n",
    "                       \"Sentiment\": senti\n",
    "                  })"
   ]
  },
  {
   "cell_type": "code",
   "execution_count": 13,
   "metadata": {},
   "outputs": [
    {
     "data": {
      "text/html": [
       "<div>\n",
       "<style scoped>\n",
       "    .dataframe tbody tr th:only-of-type {\n",
       "        vertical-align: middle;\n",
       "    }\n",
       "\n",
       "    .dataframe tbody tr th {\n",
       "        vertical-align: top;\n",
       "    }\n",
       "\n",
       "    .dataframe thead th {\n",
       "        text-align: right;\n",
       "    }\n",
       "</style>\n",
       "<table border=\"1\" class=\"dataframe\">\n",
       "  <thead>\n",
       "    <tr style=\"text-align: right;\">\n",
       "      <th></th>\n",
       "      <th>created_at</th>\n",
       "      <th>lang</th>\n",
       "      <th>text</th>\n",
       "      <th>user.location</th>\n",
       "      <th>clean_tweet</th>\n",
       "      <th>Compound</th>\n",
       "      <th>Positive</th>\n",
       "      <th>Negative</th>\n",
       "      <th>Neutral</th>\n",
       "      <th>Sentiment</th>\n",
       "    </tr>\n",
       "  </thead>\n",
       "  <tbody>\n",
       "    <tr>\n",
       "      <th>0</th>\n",
       "      <td>2021-07-04 02:36:53+00:00</td>\n",
       "      <td>en</td>\n",
       "      <td>RT @inelliegant: matt hancock's next job could be in cyber (he just doesn't know it yet)</td>\n",
       "      <td>NaN</td>\n",
       "      <td>matt hancock's next job could be in cyber (he just doesn't know it yet)</td>\n",
       "      <td>0.0000</td>\n",
       "      <td>0.000</td>\n",
       "      <td>0.000</td>\n",
       "      <td>1.000</td>\n",
       "      <td>neutral</td>\n",
       "    </tr>\n",
       "    <tr>\n",
       "      <th>1</th>\n",
       "      <td>2021-07-04 07:19:38+00:00</td>\n",
       "      <td>en</td>\n",
       "      <td>@Lord_Sugar Glad to see someone agrees Liz, matt hancock. Was Good at rolling words off his tongue, he didn't have… https://t.co/Wowa6JVe3s</td>\n",
       "      <td>Plymouth, England</td>\n",
       "      <td>Glad to see someone agrees Liz, matt hancock. Was Good at rolling words off his tongue, he didn't have…</td>\n",
       "      <td>0.7717</td>\n",
       "      <td>0.325</td>\n",
       "      <td>0.000</td>\n",
       "      <td>0.675</td>\n",
       "      <td>positive</td>\n",
       "    </tr>\n",
       "    <tr>\n",
       "      <th>2</th>\n",
       "      <td>2021-07-04 09:06:09+00:00</td>\n",
       "      <td>en</td>\n",
       "      <td>@sajidjavid I see we got an upgrade over matt hancock 🤓</td>\n",
       "      <td>NaN</td>\n",
       "      <td>I see we got an upgrade over matt hancock 🤓</td>\n",
       "      <td>-0.2960</td>\n",
       "      <td>0.000</td>\n",
       "      <td>0.180</td>\n",
       "      <td>0.820</td>\n",
       "      <td>negative</td>\n",
       "    </tr>\n",
       "    <tr>\n",
       "      <th>3</th>\n",
       "      <td>2021-07-04 10:17:28+00:00</td>\n",
       "      <td>en</td>\n",
       "      <td>Lols 😆 #socialdistance #hancock #memes #matthancock #thewhitecross #londonbylondoners #richmond #summerinlondon… https://t.co/f8lXp90ZMd</td>\n",
       "      <td>London</td>\n",
       "      <td>Lols 😆 #socialdistance #hancock #memes #matthancock #thewhitecross #londonbylondoners #richmond #summerinlondon…</td>\n",
       "      <td>0.3612</td>\n",
       "      <td>0.185</td>\n",
       "      <td>0.000</td>\n",
       "      <td>0.815</td>\n",
       "      <td>positive</td>\n",
       "    </tr>\n",
       "    <tr>\n",
       "      <th>4</th>\n",
       "      <td>2021-07-04 11:04:21+00:00</td>\n",
       "      <td>en</td>\n",
       "      <td>RT @hassxn7: if matt hancock can get 2 women, maybe i won't die single after all.</td>\n",
       "      <td>17yrs of denying my existence</td>\n",
       "      <td>if matt hancock can get 2 women, maybe i won't die single after all.</td>\n",
       "      <td>0.4847</td>\n",
       "      <td>0.195</td>\n",
       "      <td>0.000</td>\n",
       "      <td>0.805</td>\n",
       "      <td>positive</td>\n",
       "    </tr>\n",
       "    <tr>\n",
       "      <th>5</th>\n",
       "      <td>2021-07-04 13:58:57+00:00</td>\n",
       "      <td>en</td>\n",
       "      <td>RT @dandouglas: thinking about reinstalling duke nukem 3D to recreate matt hancock’s office in the build engine featuring a working securit…</td>\n",
       "      <td>UK</td>\n",
       "      <td>thinking about reinstalling duke nukem 3D to recreate matt hancock’s office in the build engine featuring a working securit…</td>\n",
       "      <td>0.0000</td>\n",
       "      <td>0.000</td>\n",
       "      <td>0.000</td>\n",
       "      <td>1.000</td>\n",
       "      <td>neutral</td>\n",
       "    </tr>\n",
       "    <tr>\n",
       "      <th>6</th>\n",
       "      <td>2021-07-04 14:17:25+00:00</td>\n",
       "      <td>en</td>\n",
       "      <td>Me: mum, can I have matt hancock?\\n\\nMum: we have matt hancock at home\\n\\nThe matt hancock at home:</td>\n",
       "      <td>Gammonville, Normal Island</td>\n",
       "      <td>Me: mum, can I have matt hancock?\\n\\nMum: we have matt hancock at home\\n\\nThe matt hancock at home:</td>\n",
       "      <td>0.0000</td>\n",
       "      <td>0.000</td>\n",
       "      <td>0.000</td>\n",
       "      <td>1.000</td>\n",
       "      <td>neutral</td>\n",
       "    </tr>\n",
       "    <tr>\n",
       "      <th>7</th>\n",
       "      <td>2021-07-04 16:49:12+00:00</td>\n",
       "      <td>en</td>\n",
       "      <td>RT @CamillaTominey: The flailing PM has lost touch with the British public... my column this week #matthancock #covid #Lockdown #BatleyAndS…</td>\n",
       "      <td>London</td>\n",
       "      <td>The flailing PM has lost touch with the British public... my column this week #matthancock #covid #Lockdown #BatleyAndS…</td>\n",
       "      <td>-0.3182</td>\n",
       "      <td>0.000</td>\n",
       "      <td>0.119</td>\n",
       "      <td>0.881</td>\n",
       "      <td>negative</td>\n",
       "    </tr>\n",
       "    <tr>\n",
       "      <th>8</th>\n",
       "      <td>2021-07-04 16:49:35+00:00</td>\n",
       "      <td>en</td>\n",
       "      <td>RT @Jimlong26: @johnredwood Maybe you should ask your government about this and matt hancock about midzallan he ordered from france .. in v…</td>\n",
       "      <td>North East Uk</td>\n",
       "      <td>Maybe you should ask your government about this and matt hancock about midzallan he ordered from france .. in v…</td>\n",
       "      <td>0.0000</td>\n",
       "      <td>0.000</td>\n",
       "      <td>0.000</td>\n",
       "      <td>1.000</td>\n",
       "      <td>neutral</td>\n",
       "    </tr>\n",
       "    <tr>\n",
       "      <th>9</th>\n",
       "      <td>2021-07-04 19:37:10+00:00</td>\n",
       "      <td>en</td>\n",
       "      <td>@PoliticsForAlI I should think so too after matt hancock's little hoo har!!</td>\n",
       "      <td>ℓση∂ση</td>\n",
       "      <td>I should think so too after matt hancock's little hoo har!!</td>\n",
       "      <td>0.0000</td>\n",
       "      <td>0.000</td>\n",
       "      <td>0.000</td>\n",
       "      <td>1.000</td>\n",
       "      <td>neutral</td>\n",
       "    </tr>\n",
       "  </tbody>\n",
       "</table>\n",
       "</div>"
      ],
      "text/plain": [
       "                 created_at lang  \\\n",
       "0 2021-07-04 02:36:53+00:00   en   \n",
       "1 2021-07-04 07:19:38+00:00   en   \n",
       "2 2021-07-04 09:06:09+00:00   en   \n",
       "3 2021-07-04 10:17:28+00:00   en   \n",
       "4 2021-07-04 11:04:21+00:00   en   \n",
       "5 2021-07-04 13:58:57+00:00   en   \n",
       "6 2021-07-04 14:17:25+00:00   en   \n",
       "7 2021-07-04 16:49:12+00:00   en   \n",
       "8 2021-07-04 16:49:35+00:00   en   \n",
       "9 2021-07-04 19:37:10+00:00   en   \n",
       "\n",
       "                                                                                                                                           text  \\\n",
       "0                                                      RT @inelliegant: matt hancock's next job could be in cyber (he just doesn't know it yet)   \n",
       "1   @Lord_Sugar Glad to see someone agrees Liz, matt hancock. Was Good at rolling words off his tongue, he didn't have… https://t.co/Wowa6JVe3s   \n",
       "2                                                                                       @sajidjavid I see we got an upgrade over matt hancock 🤓   \n",
       "3      Lols 😆 #socialdistance #hancock #memes #matthancock #thewhitecross #londonbylondoners #richmond #summerinlondon… https://t.co/f8lXp90ZMd   \n",
       "4                                                             RT @hassxn7: if matt hancock can get 2 women, maybe i won't die single after all.   \n",
       "5  RT @dandouglas: thinking about reinstalling duke nukem 3D to recreate matt hancock’s office in the build engine featuring a working securit…   \n",
       "6                                           Me: mum, can I have matt hancock?\\n\\nMum: we have matt hancock at home\\n\\nThe matt hancock at home:   \n",
       "7  RT @CamillaTominey: The flailing PM has lost touch with the British public... my column this week #matthancock #covid #Lockdown #BatleyAndS…   \n",
       "8  RT @Jimlong26: @johnredwood Maybe you should ask your government about this and matt hancock about midzallan he ordered from france .. in v…   \n",
       "9                                                                   @PoliticsForAlI I should think so too after matt hancock's little hoo har!!   \n",
       "\n",
       "                   user.location  \\\n",
       "0                            NaN   \n",
       "1              Plymouth, England   \n",
       "2                            NaN   \n",
       "3                         London   \n",
       "4  17yrs of denying my existence   \n",
       "5                             UK   \n",
       "6     Gammonville, Normal Island   \n",
       "7                         London   \n",
       "8                  North East Uk   \n",
       "9                         ℓση∂ση   \n",
       "\n",
       "                                                                                                                     clean_tweet  \\\n",
       "0                                                        matt hancock's next job could be in cyber (he just doesn't know it yet)   \n",
       "1                       Glad to see someone agrees Liz, matt hancock. Was Good at rolling words off his tongue, he didn't have…    \n",
       "2                                                                                    I see we got an upgrade over matt hancock 🤓   \n",
       "3              Lols 😆 #socialdistance #hancock #memes #matthancock #thewhitecross #londonbylondoners #richmond #summerinlondon…    \n",
       "4                                                           if matt hancock can get 2 women, maybe i won't die single after all.   \n",
       "5   thinking about reinstalling duke nukem 3D to recreate matt hancock’s office in the build engine featuring a working securit…   \n",
       "6                            Me: mum, can I have matt hancock?\\n\\nMum: we have matt hancock at home\\n\\nThe matt hancock at home:   \n",
       "7       The flailing PM has lost touch with the British public... my column this week #matthancock #covid #Lockdown #BatleyAndS…   \n",
       "8               Maybe you should ask your government about this and matt hancock about midzallan he ordered from france .. in v…   \n",
       "9                                                                    I should think so too after matt hancock's little hoo har!!   \n",
       "\n",
       "   Compound  Positive  Negative  Neutral Sentiment  \n",
       "0    0.0000     0.000     0.000    1.000   neutral  \n",
       "1    0.7717     0.325     0.000    0.675  positive  \n",
       "2   -0.2960     0.000     0.180    0.820  negative  \n",
       "3    0.3612     0.185     0.000    0.815  positive  \n",
       "4    0.4847     0.195     0.000    0.805  positive  \n",
       "5    0.0000     0.000     0.000    1.000   neutral  \n",
       "6    0.0000     0.000     0.000    1.000   neutral  \n",
       "7   -0.3182     0.000     0.119    0.881  negative  \n",
       "8    0.0000     0.000     0.000    1.000   neutral  \n",
       "9    0.0000     0.000     0.000    1.000   neutral  "
      ]
     },
     "execution_count": 13,
     "metadata": {},
     "output_type": "execute_result"
    }
   ],
   "source": [
    "#Add to dataframe\n",
    "sentiments_score = pd.DataFrame.from_dict(scores)\n",
    "this_data = this_data.join(sentiments_score)\n",
    "this_data.head(10)"
   ]
  },
  {
   "cell_type": "markdown",
   "metadata": {},
   "source": [
    "## Pre-processing text for Topic Modelling"
   ]
  },
  {
   "cell_type": "code",
   "execution_count": 14,
   "metadata": {},
   "outputs": [],
   "source": [
    "#Defining:\n",
    "LEMMATIZER = WordNetLemmatizer()\n",
    "STOPWORDS = stopwords.words('english')\n",
    "special_char = ['’', '…'] #found from trial and error\n",
    "DC_list = ['cummings', 'dominiccummings']\n",
    "MC_list = ['matthancock', 'matt' ,'hancock']"
   ]
  },
  {
   "cell_type": "code",
   "execution_count": 15,
   "metadata": {},
   "outputs": [],
   "source": [
    "def remove_emoji(text):\n",
    "    regrex_pattern = re.compile(pattern = \"[\"\n",
    "        u\"\\U0001F600-\\U0001F64F\"  # emoticons\n",
    "        u\"\\U0001F300-\\U0001F5FF\"  # symbols & pictographs\n",
    "        u\"\\U0001F680-\\U0001F6FF\"  # transport & map symbols\n",
    "        u\"\\U0001F1E0-\\U0001F1FF\"  # flags (iOS)\n",
    "                           \"]+\", flags = re.UNICODE)\n",
    "    return regrex_pattern.sub(r'',text)"
   ]
  },
  {
   "cell_type": "code",
   "execution_count": 16,
   "metadata": {},
   "outputs": [],
   "source": [
    "def tokenise(text):\n",
    "    \"\"\" Process a single line of text. \"\"\"\n",
    "    \n",
    "    # Remove emoji's (since it's not really processable anymore, only needed for sentiment part)\n",
    "    text_new = remove_emoji(text)\n",
    "\n",
    "    # Strip trailing characters if any (e.g. newline)\n",
    "    text_new = text_new.strip()\n",
    "    \n",
    "    # Remove puncuation\n",
    "    text_new = ''.join(char for char in text_new if char not in string.punctuation)\n",
    "    \n",
    "    # Remove special characters\n",
    "    text_new = ''.join(ch for ch in text_new if ch not in special_char)\n",
    "\n",
    "    # Lower case\n",
    "    text_new = text_new.lower()\n",
    "    \n",
    "    # Tokenise by space\n",
    "    tokens = text_new.split()\n",
    "    \n",
    "    # Remove stopwords\n",
    "    tokens = [word for word in tokens if word not in STOPWORDS]\n",
    "    \n",
    "    # Remove search criteria (i.e. cummings)\n",
    "    tokens = [word for word in tokens if word not in MC_list]\n",
    "\n",
    "    # Lemmatise each word\n",
    "    tokens = [LEMMATIZER.lemmatize(word) for word in tokens]\n",
    "    \n",
    "\n",
    "    return tokens"
   ]
  },
  {
   "cell_type": "code",
   "execution_count": 17,
   "metadata": {},
   "outputs": [
    {
     "data": {
      "text/html": [
       "<div>\n",
       "<style scoped>\n",
       "    .dataframe tbody tr th:only-of-type {\n",
       "        vertical-align: middle;\n",
       "    }\n",
       "\n",
       "    .dataframe tbody tr th {\n",
       "        vertical-align: top;\n",
       "    }\n",
       "\n",
       "    .dataframe thead th {\n",
       "        text-align: right;\n",
       "    }\n",
       "</style>\n",
       "<table border=\"1\" class=\"dataframe\">\n",
       "  <thead>\n",
       "    <tr style=\"text-align: right;\">\n",
       "      <th></th>\n",
       "      <th>created_at</th>\n",
       "      <th>lang</th>\n",
       "      <th>text</th>\n",
       "      <th>user.location</th>\n",
       "      <th>clean_tweet</th>\n",
       "      <th>Compound</th>\n",
       "      <th>Positive</th>\n",
       "      <th>Negative</th>\n",
       "      <th>Neutral</th>\n",
       "      <th>Sentiment</th>\n",
       "      <th>tokenised</th>\n",
       "      <th>clean_text</th>\n",
       "    </tr>\n",
       "  </thead>\n",
       "  <tbody>\n",
       "    <tr>\n",
       "      <th>0</th>\n",
       "      <td>2021-07-04 02:36:53+00:00</td>\n",
       "      <td>en</td>\n",
       "      <td>RT @inelliegant: matt hancock's next job could be in cyber (he just doesn't know it yet)</td>\n",
       "      <td>NaN</td>\n",
       "      <td>matt hancock's next job could be in cyber (he just doesn't know it yet)</td>\n",
       "      <td>0.0000</td>\n",
       "      <td>0.000</td>\n",
       "      <td>0.000</td>\n",
       "      <td>1.000</td>\n",
       "      <td>neutral</td>\n",
       "      <td>[hancock, next, job, could, cyber, doesnt, know, yet]</td>\n",
       "      <td>hancock next job could cyber doesnt know yet</td>\n",
       "    </tr>\n",
       "    <tr>\n",
       "      <th>1</th>\n",
       "      <td>2021-07-04 07:19:38+00:00</td>\n",
       "      <td>en</td>\n",
       "      <td>@Lord_Sugar Glad to see someone agrees Liz, matt hancock. Was Good at rolling words off his tongue, he didn't have… https://t.co/Wowa6JVe3s</td>\n",
       "      <td>Plymouth, England</td>\n",
       "      <td>Glad to see someone agrees Liz, matt hancock. Was Good at rolling words off his tongue, he didn't have…</td>\n",
       "      <td>0.7717</td>\n",
       "      <td>0.325</td>\n",
       "      <td>0.000</td>\n",
       "      <td>0.675</td>\n",
       "      <td>positive</td>\n",
       "      <td>[glad, see, someone, agrees, liz, good, rolling, word, tongue, didnt]</td>\n",
       "      <td>glad see someone agrees liz good rolling word tongue didnt</td>\n",
       "    </tr>\n",
       "    <tr>\n",
       "      <th>2</th>\n",
       "      <td>2021-07-04 09:06:09+00:00</td>\n",
       "      <td>en</td>\n",
       "      <td>@sajidjavid I see we got an upgrade over matt hancock 🤓</td>\n",
       "      <td>NaN</td>\n",
       "      <td>I see we got an upgrade over matt hancock 🤓</td>\n",
       "      <td>-0.2960</td>\n",
       "      <td>0.000</td>\n",
       "      <td>0.180</td>\n",
       "      <td>0.820</td>\n",
       "      <td>negative</td>\n",
       "      <td>[see, got, upgrade, 🤓]</td>\n",
       "      <td>see got upgrade 🤓</td>\n",
       "    </tr>\n",
       "    <tr>\n",
       "      <th>3</th>\n",
       "      <td>2021-07-04 10:17:28+00:00</td>\n",
       "      <td>en</td>\n",
       "      <td>Lols 😆 #socialdistance #hancock #memes #matthancock #thewhitecross #londonbylondoners #richmond #summerinlondon… https://t.co/f8lXp90ZMd</td>\n",
       "      <td>London</td>\n",
       "      <td>Lols 😆 #socialdistance #hancock #memes #matthancock #thewhitecross #londonbylondoners #richmond #summerinlondon…</td>\n",
       "      <td>0.3612</td>\n",
       "      <td>0.185</td>\n",
       "      <td>0.000</td>\n",
       "      <td>0.815</td>\n",
       "      <td>positive</td>\n",
       "      <td>[lols, socialdistance, meme, thewhitecross, londonbylondoners, richmond, summerinlondon]</td>\n",
       "      <td>lols socialdistance meme thewhitecross londonbylondoners richmond summerinlondon</td>\n",
       "    </tr>\n",
       "    <tr>\n",
       "      <th>4</th>\n",
       "      <td>2021-07-04 11:04:21+00:00</td>\n",
       "      <td>en</td>\n",
       "      <td>RT @hassxn7: if matt hancock can get 2 women, maybe i won't die single after all.</td>\n",
       "      <td>17yrs of denying my existence</td>\n",
       "      <td>if matt hancock can get 2 women, maybe i won't die single after all.</td>\n",
       "      <td>0.4847</td>\n",
       "      <td>0.195</td>\n",
       "      <td>0.000</td>\n",
       "      <td>0.805</td>\n",
       "      <td>positive</td>\n",
       "      <td>[get, 2, woman, maybe, wont, die, single]</td>\n",
       "      <td>get 2 woman maybe wont die single</td>\n",
       "    </tr>\n",
       "    <tr>\n",
       "      <th>5</th>\n",
       "      <td>2021-07-04 13:58:57+00:00</td>\n",
       "      <td>en</td>\n",
       "      <td>RT @dandouglas: thinking about reinstalling duke nukem 3D to recreate matt hancock’s office in the build engine featuring a working securit…</td>\n",
       "      <td>UK</td>\n",
       "      <td>thinking about reinstalling duke nukem 3D to recreate matt hancock’s office in the build engine featuring a working securit…</td>\n",
       "      <td>0.0000</td>\n",
       "      <td>0.000</td>\n",
       "      <td>0.000</td>\n",
       "      <td>1.000</td>\n",
       "      <td>neutral</td>\n",
       "      <td>[thinking, reinstalling, duke, nukem, 3d, recreate, hancock, office, build, engine, featuring, working, securit]</td>\n",
       "      <td>thinking reinstalling duke nukem 3d recreate hancock office build engine featuring working securit</td>\n",
       "    </tr>\n",
       "    <tr>\n",
       "      <th>6</th>\n",
       "      <td>2021-07-04 14:17:25+00:00</td>\n",
       "      <td>en</td>\n",
       "      <td>Me: mum, can I have matt hancock?\\n\\nMum: we have matt hancock at home\\n\\nThe matt hancock at home:</td>\n",
       "      <td>Gammonville, Normal Island</td>\n",
       "      <td>Me: mum, can I have matt hancock?\\n\\nMum: we have matt hancock at home\\n\\nThe matt hancock at home:</td>\n",
       "      <td>0.0000</td>\n",
       "      <td>0.000</td>\n",
       "      <td>0.000</td>\n",
       "      <td>1.000</td>\n",
       "      <td>neutral</td>\n",
       "      <td>[mum, mum, home, home]</td>\n",
       "      <td>mum mum home home</td>\n",
       "    </tr>\n",
       "    <tr>\n",
       "      <th>7</th>\n",
       "      <td>2021-07-04 16:49:12+00:00</td>\n",
       "      <td>en</td>\n",
       "      <td>RT @CamillaTominey: The flailing PM has lost touch with the British public... my column this week #matthancock #covid #Lockdown #BatleyAndS…</td>\n",
       "      <td>London</td>\n",
       "      <td>The flailing PM has lost touch with the British public... my column this week #matthancock #covid #Lockdown #BatleyAndS…</td>\n",
       "      <td>-0.3182</td>\n",
       "      <td>0.000</td>\n",
       "      <td>0.119</td>\n",
       "      <td>0.881</td>\n",
       "      <td>negative</td>\n",
       "      <td>[flailing, pm, lost, touch, british, public, column, week, covid, lockdown, batleyands]</td>\n",
       "      <td>flailing pm lost touch british public column week covid lockdown batleyands</td>\n",
       "    </tr>\n",
       "    <tr>\n",
       "      <th>8</th>\n",
       "      <td>2021-07-04 16:49:35+00:00</td>\n",
       "      <td>en</td>\n",
       "      <td>RT @Jimlong26: @johnredwood Maybe you should ask your government about this and matt hancock about midzallan he ordered from france .. in v…</td>\n",
       "      <td>North East Uk</td>\n",
       "      <td>Maybe you should ask your government about this and matt hancock about midzallan he ordered from france .. in v…</td>\n",
       "      <td>0.0000</td>\n",
       "      <td>0.000</td>\n",
       "      <td>0.000</td>\n",
       "      <td>1.000</td>\n",
       "      <td>neutral</td>\n",
       "      <td>[maybe, ask, government, midzallan, ordered, france, v]</td>\n",
       "      <td>maybe ask government midzallan ordered france v</td>\n",
       "    </tr>\n",
       "    <tr>\n",
       "      <th>9</th>\n",
       "      <td>2021-07-04 19:37:10+00:00</td>\n",
       "      <td>en</td>\n",
       "      <td>@PoliticsForAlI I should think so too after matt hancock's little hoo har!!</td>\n",
       "      <td>ℓση∂ση</td>\n",
       "      <td>I should think so too after matt hancock's little hoo har!!</td>\n",
       "      <td>0.0000</td>\n",
       "      <td>0.000</td>\n",
       "      <td>0.000</td>\n",
       "      <td>1.000</td>\n",
       "      <td>neutral</td>\n",
       "      <td>[think, hancock, little, hoo, har]</td>\n",
       "      <td>think hancock little hoo har</td>\n",
       "    </tr>\n",
       "  </tbody>\n",
       "</table>\n",
       "</div>"
      ],
      "text/plain": [
       "                 created_at lang  \\\n",
       "0 2021-07-04 02:36:53+00:00   en   \n",
       "1 2021-07-04 07:19:38+00:00   en   \n",
       "2 2021-07-04 09:06:09+00:00   en   \n",
       "3 2021-07-04 10:17:28+00:00   en   \n",
       "4 2021-07-04 11:04:21+00:00   en   \n",
       "5 2021-07-04 13:58:57+00:00   en   \n",
       "6 2021-07-04 14:17:25+00:00   en   \n",
       "7 2021-07-04 16:49:12+00:00   en   \n",
       "8 2021-07-04 16:49:35+00:00   en   \n",
       "9 2021-07-04 19:37:10+00:00   en   \n",
       "\n",
       "                                                                                                                                           text  \\\n",
       "0                                                      RT @inelliegant: matt hancock's next job could be in cyber (he just doesn't know it yet)   \n",
       "1   @Lord_Sugar Glad to see someone agrees Liz, matt hancock. Was Good at rolling words off his tongue, he didn't have… https://t.co/Wowa6JVe3s   \n",
       "2                                                                                       @sajidjavid I see we got an upgrade over matt hancock 🤓   \n",
       "3      Lols 😆 #socialdistance #hancock #memes #matthancock #thewhitecross #londonbylondoners #richmond #summerinlondon… https://t.co/f8lXp90ZMd   \n",
       "4                                                             RT @hassxn7: if matt hancock can get 2 women, maybe i won't die single after all.   \n",
       "5  RT @dandouglas: thinking about reinstalling duke nukem 3D to recreate matt hancock’s office in the build engine featuring a working securit…   \n",
       "6                                           Me: mum, can I have matt hancock?\\n\\nMum: we have matt hancock at home\\n\\nThe matt hancock at home:   \n",
       "7  RT @CamillaTominey: The flailing PM has lost touch with the British public... my column this week #matthancock #covid #Lockdown #BatleyAndS…   \n",
       "8  RT @Jimlong26: @johnredwood Maybe you should ask your government about this and matt hancock about midzallan he ordered from france .. in v…   \n",
       "9                                                                   @PoliticsForAlI I should think so too after matt hancock's little hoo har!!   \n",
       "\n",
       "                   user.location  \\\n",
       "0                            NaN   \n",
       "1              Plymouth, England   \n",
       "2                            NaN   \n",
       "3                         London   \n",
       "4  17yrs of denying my existence   \n",
       "5                             UK   \n",
       "6     Gammonville, Normal Island   \n",
       "7                         London   \n",
       "8                  North East Uk   \n",
       "9                         ℓση∂ση   \n",
       "\n",
       "                                                                                                                     clean_tweet  \\\n",
       "0                                                        matt hancock's next job could be in cyber (he just doesn't know it yet)   \n",
       "1                       Glad to see someone agrees Liz, matt hancock. Was Good at rolling words off his tongue, he didn't have…    \n",
       "2                                                                                    I see we got an upgrade over matt hancock 🤓   \n",
       "3              Lols 😆 #socialdistance #hancock #memes #matthancock #thewhitecross #londonbylondoners #richmond #summerinlondon…    \n",
       "4                                                           if matt hancock can get 2 women, maybe i won't die single after all.   \n",
       "5   thinking about reinstalling duke nukem 3D to recreate matt hancock’s office in the build engine featuring a working securit…   \n",
       "6                            Me: mum, can I have matt hancock?\\n\\nMum: we have matt hancock at home\\n\\nThe matt hancock at home:   \n",
       "7       The flailing PM has lost touch with the British public... my column this week #matthancock #covid #Lockdown #BatleyAndS…   \n",
       "8               Maybe you should ask your government about this and matt hancock about midzallan he ordered from france .. in v…   \n",
       "9                                                                    I should think so too after matt hancock's little hoo har!!   \n",
       "\n",
       "   Compound  Positive  Negative  Neutral Sentiment  \\\n",
       "0    0.0000     0.000     0.000    1.000   neutral   \n",
       "1    0.7717     0.325     0.000    0.675  positive   \n",
       "2   -0.2960     0.000     0.180    0.820  negative   \n",
       "3    0.3612     0.185     0.000    0.815  positive   \n",
       "4    0.4847     0.195     0.000    0.805  positive   \n",
       "5    0.0000     0.000     0.000    1.000   neutral   \n",
       "6    0.0000     0.000     0.000    1.000   neutral   \n",
       "7   -0.3182     0.000     0.119    0.881  negative   \n",
       "8    0.0000     0.000     0.000    1.000   neutral   \n",
       "9    0.0000     0.000     0.000    1.000   neutral   \n",
       "\n",
       "                                                                                                          tokenised  \\\n",
       "0                                                             [hancock, next, job, could, cyber, doesnt, know, yet]   \n",
       "1                                             [glad, see, someone, agrees, liz, good, rolling, word, tongue, didnt]   \n",
       "2                                                                                            [see, got, upgrade, 🤓]   \n",
       "3                          [lols, socialdistance, meme, thewhitecross, londonbylondoners, richmond, summerinlondon]   \n",
       "4                                                                         [get, 2, woman, maybe, wont, die, single]   \n",
       "5  [thinking, reinstalling, duke, nukem, 3d, recreate, hancock, office, build, engine, featuring, working, securit]   \n",
       "6                                                                                            [mum, mum, home, home]   \n",
       "7                           [flailing, pm, lost, touch, british, public, column, week, covid, lockdown, batleyands]   \n",
       "8                                                           [maybe, ask, government, midzallan, ordered, france, v]   \n",
       "9                                                                                [think, hancock, little, hoo, har]   \n",
       "\n",
       "                                                                                           clean_text  \n",
       "0                                                        hancock next job could cyber doesnt know yet  \n",
       "1                                          glad see someone agrees liz good rolling word tongue didnt  \n",
       "2                                                                                   see got upgrade 🤓  \n",
       "3                    lols socialdistance meme thewhitecross londonbylondoners richmond summerinlondon  \n",
       "4                                                                   get 2 woman maybe wont die single  \n",
       "5  thinking reinstalling duke nukem 3d recreate hancock office build engine featuring working securit  \n",
       "6                                                                                   mum mum home home  \n",
       "7                         flailing pm lost touch british public column week covid lockdown batleyands  \n",
       "8                                                     maybe ask government midzallan ordered france v  \n",
       "9                                                                        think hancock little hoo har  "
      ]
     },
     "execution_count": 17,
     "metadata": {},
     "output_type": "execute_result"
    }
   ],
   "source": [
    "this_data['tokenised'] = this_data['clean_tweet'].apply(lambda x: tokenise(x))\n",
    "this_data['clean_text'] = this_data['tokenised'].apply(lambda x: ' '.join(x))\n",
    "this_data.head(10)"
   ]
  },
  {
   "cell_type": "markdown",
   "metadata": {},
   "source": [
    "## Splitting the data-sets by sentiment"
   ]
  },
  {
   "cell_type": "code",
   "execution_count": 18,
   "metadata": {},
   "outputs": [],
   "source": [
    "this_data_pos = this_data.loc[this_data['Sentiment'] == 'positive']\n",
    "this_data_neg = this_data.loc[this_data['Sentiment'] == 'negative']\n",
    "this_data_neu = this_data.loc[this_data['Sentiment'] == 'neutral']"
   ]
  },
  {
   "cell_type": "code",
   "execution_count": 19,
   "metadata": {},
   "outputs": [
    {
     "name": "stdout",
     "output_type": "stream",
     "text": [
      "17\n",
      "57\n",
      "41\n"
     ]
    }
   ],
   "source": [
    "print(this_data_pos.shape[0])\n",
    "print(this_data_neg.shape[0])\n",
    "print(this_data_neu.shape[0])"
   ]
  },
  {
   "cell_type": "code",
   "execution_count": 20,
   "metadata": {
    "scrolled": true
   },
   "outputs": [
    {
     "data": {
      "text/html": [
       "<div>\n",
       "<style scoped>\n",
       "    .dataframe tbody tr th:only-of-type {\n",
       "        vertical-align: middle;\n",
       "    }\n",
       "\n",
       "    .dataframe tbody tr th {\n",
       "        vertical-align: top;\n",
       "    }\n",
       "\n",
       "    .dataframe thead th {\n",
       "        text-align: right;\n",
       "    }\n",
       "</style>\n",
       "<table border=\"1\" class=\"dataframe\">\n",
       "  <thead>\n",
       "    <tr style=\"text-align: right;\">\n",
       "      <th></th>\n",
       "      <th>created_at</th>\n",
       "      <th>lang</th>\n",
       "      <th>text</th>\n",
       "      <th>user.location</th>\n",
       "      <th>clean_tweet</th>\n",
       "      <th>Compound</th>\n",
       "      <th>Positive</th>\n",
       "      <th>Negative</th>\n",
       "      <th>Neutral</th>\n",
       "      <th>Sentiment</th>\n",
       "      <th>tokenised</th>\n",
       "      <th>clean_text</th>\n",
       "    </tr>\n",
       "  </thead>\n",
       "  <tbody>\n",
       "    <tr>\n",
       "      <th>1</th>\n",
       "      <td>2021-07-04 07:19:38+00:00</td>\n",
       "      <td>en</td>\n",
       "      <td>@Lord_Sugar Glad to see someone agrees Liz, matt hancock. Was Good at rolling words off his tongue, he didn't have… https://t.co/Wowa6JVe3s</td>\n",
       "      <td>Plymouth, England</td>\n",
       "      <td>Glad to see someone agrees Liz, matt hancock. Was Good at rolling words off his tongue, he didn't have…</td>\n",
       "      <td>0.7717</td>\n",
       "      <td>0.325</td>\n",
       "      <td>0.000</td>\n",
       "      <td>0.675</td>\n",
       "      <td>positive</td>\n",
       "      <td>[glad, see, someone, agrees, liz, good, rolling, word, tongue, didnt]</td>\n",
       "      <td>glad see someone agrees liz good rolling word tongue didnt</td>\n",
       "    </tr>\n",
       "    <tr>\n",
       "      <th>3</th>\n",
       "      <td>2021-07-04 10:17:28+00:00</td>\n",
       "      <td>en</td>\n",
       "      <td>Lols 😆 #socialdistance #hancock #memes #matthancock #thewhitecross #londonbylondoners #richmond #summerinlondon… https://t.co/f8lXp90ZMd</td>\n",
       "      <td>London</td>\n",
       "      <td>Lols 😆 #socialdistance #hancock #memes #matthancock #thewhitecross #londonbylondoners #richmond #summerinlondon…</td>\n",
       "      <td>0.3612</td>\n",
       "      <td>0.185</td>\n",
       "      <td>0.000</td>\n",
       "      <td>0.815</td>\n",
       "      <td>positive</td>\n",
       "      <td>[lols, socialdistance, meme, thewhitecross, londonbylondoners, richmond, summerinlondon]</td>\n",
       "      <td>lols socialdistance meme thewhitecross londonbylondoners richmond summerinlondon</td>\n",
       "    </tr>\n",
       "    <tr>\n",
       "      <th>4</th>\n",
       "      <td>2021-07-04 11:04:21+00:00</td>\n",
       "      <td>en</td>\n",
       "      <td>RT @hassxn7: if matt hancock can get 2 women, maybe i won't die single after all.</td>\n",
       "      <td>17yrs of denying my existence</td>\n",
       "      <td>if matt hancock can get 2 women, maybe i won't die single after all.</td>\n",
       "      <td>0.4847</td>\n",
       "      <td>0.195</td>\n",
       "      <td>0.000</td>\n",
       "      <td>0.805</td>\n",
       "      <td>positive</td>\n",
       "      <td>[get, 2, woman, maybe, wont, die, single]</td>\n",
       "      <td>get 2 woman maybe wont die single</td>\n",
       "    </tr>\n",
       "    <tr>\n",
       "      <th>11</th>\n",
       "      <td>2021-07-04 19:56:07+00:00</td>\n",
       "      <td>en</td>\n",
       "      <td>i acc want matt hancock back,,, atleast he gets pussy</td>\n",
       "      <td>💡</td>\n",
       "      <td>i acc want matt hancock back,,, atleast he gets pussy</td>\n",
       "      <td>0.0772</td>\n",
       "      <td>0.126</td>\n",
       "      <td>0.000</td>\n",
       "      <td>0.874</td>\n",
       "      <td>positive</td>\n",
       "      <td>[acc, want, back, atleast, get, pussy]</td>\n",
       "      <td>acc want back atleast get pussy</td>\n",
       "    </tr>\n",
       "    <tr>\n",
       "      <th>19</th>\n",
       "      <td>2021-07-04 22:58:32+00:00</td>\n",
       "      <td>en</td>\n",
       "      <td>No fucking about on here recently is there? Craig, sophay, matt hancock and now Joel Hughes absolutely smashed in the last week 😂😂</td>\n",
       "      <td>Wherever I am needed</td>\n",
       "      <td>No fucking about on here recently is there? Craig, sophay, matt hancock and now Joel Hughes absolutely smashed in the last week 😂😂</td>\n",
       "      <td>0.5574</td>\n",
       "      <td>0.187</td>\n",
       "      <td>0.148</td>\n",
       "      <td>0.665</td>\n",
       "      <td>positive</td>\n",
       "      <td>[fucking, recently, craig, sophay, joel, hughes, absolutely, smashed, last, week]</td>\n",
       "      <td>fucking recently craig sophay joel hughes absolutely smashed last week</td>\n",
       "    </tr>\n",
       "    <tr>\n",
       "      <th>32</th>\n",
       "      <td>2021-07-05 23:31:01+00:00</td>\n",
       "      <td>en</td>\n",
       "      <td>RT @Lucie_Grayy: matt hancock sleeping the night before Casa Amor getting ready to step on some toes #LoveIsland https://t.co/qyAsVOaeQp</td>\n",
       "      <td>Northampton, England</td>\n",
       "      <td>matt hancock sleeping the night before Casa Amor getting ready to step on some toes #LoveIsland</td>\n",
       "      <td>0.7579</td>\n",
       "      <td>0.317</td>\n",
       "      <td>0.000</td>\n",
       "      <td>0.683</td>\n",
       "      <td>positive</td>\n",
       "      <td>[sleeping, night, casa, amor, getting, ready, step, toe, loveisland]</td>\n",
       "      <td>sleeping night casa amor getting ready step toe loveisland</td>\n",
       "    </tr>\n",
       "    <tr>\n",
       "      <th>33</th>\n",
       "      <td>2021-07-06 01:44:21+00:00</td>\n",
       "      <td>en</td>\n",
       "      <td>RT @EmmaSzewczak: why does matt hancock kiss like the sims https://t.co/iCsCaivmHt</td>\n",
       "      <td>NaN</td>\n",
       "      <td>why does matt hancock kiss like the sims</td>\n",
       "      <td>0.6486</td>\n",
       "      <td>0.469</td>\n",
       "      <td>0.000</td>\n",
       "      <td>0.531</td>\n",
       "      <td>positive</td>\n",
       "      <td>[kiss, like, sims]</td>\n",
       "      <td>kiss like sims</td>\n",
       "    </tr>\n",
       "    <tr>\n",
       "      <th>35</th>\n",
       "      <td>2021-07-06 08:07:47+00:00</td>\n",
       "      <td>en</td>\n",
       "      <td>While matt hancock was shagging about, palantir were showered with taxpayers £ with the blessing of the corrupt bre… https://t.co/G4L3H99gIV</td>\n",
       "      <td>year zero</td>\n",
       "      <td>While matt hancock was shagging about, palantir were showered with taxpayers £ with the blessing of the corrupt bre…</td>\n",
       "      <td>0.4939</td>\n",
       "      <td>0.151</td>\n",
       "      <td>0.000</td>\n",
       "      <td>0.849</td>\n",
       "      <td>positive</td>\n",
       "      <td>[shagging, palantir, showered, taxpayer, £, blessing, corrupt, bre]</td>\n",
       "      <td>shagging palantir showered taxpayer £ blessing corrupt bre</td>\n",
       "    </tr>\n",
       "    <tr>\n",
       "      <th>46</th>\n",
       "      <td>2021-07-06 14:54:33+00:00</td>\n",
       "      <td>en</td>\n",
       "      <td>RT @MorgsNicole_: praying that the photos of matt hancock are all we see - my eyes/stomach can't take a video</td>\n",
       "      <td>London, UK</td>\n",
       "      <td>praying that the photos of matt hancock are all we see - my eyes/stomach can't take a video</td>\n",
       "      <td>0.3612</td>\n",
       "      <td>0.128</td>\n",
       "      <td>0.000</td>\n",
       "      <td>0.872</td>\n",
       "      <td>positive</td>\n",
       "      <td>[praying, photo, see, eyesstomach, cant, take, video]</td>\n",
       "      <td>praying photo see eyesstomach cant take video</td>\n",
       "    </tr>\n",
       "    <tr>\n",
       "      <th>47</th>\n",
       "      <td>2021-07-06 17:55:00+00:00</td>\n",
       "      <td>en</td>\n",
       "      <td>RT @EmmaSzewczak: why does matt hancock kiss like the sims https://t.co/iCsCaivmHt</td>\n",
       "      <td>she/they</td>\n",
       "      <td>why does matt hancock kiss like the sims</td>\n",
       "      <td>0.6486</td>\n",
       "      <td>0.469</td>\n",
       "      <td>0.000</td>\n",
       "      <td>0.531</td>\n",
       "      <td>positive</td>\n",
       "      <td>[kiss, like, sims]</td>\n",
       "      <td>kiss like sims</td>\n",
       "    </tr>\n",
       "    <tr>\n",
       "      <th>54</th>\n",
       "      <td>2021-07-06 22:18:38+00:00</td>\n",
       "      <td>en</td>\n",
       "      <td>@jvckdeeley @jujutsujosh u guys happy? looking for a matt hancock type situation? 😌</td>\n",
       "      <td>NaN</td>\n",
       "      <td>u guys happy? looking for a matt hancock type situation? 😌</td>\n",
       "      <td>0.7691</td>\n",
       "      <td>0.400</td>\n",
       "      <td>0.000</td>\n",
       "      <td>0.600</td>\n",
       "      <td>positive</td>\n",
       "      <td>[u, guy, happy, looking, type, situation]</td>\n",
       "      <td>u guy happy looking type situation</td>\n",
       "    </tr>\n",
       "    <tr>\n",
       "      <th>90</th>\n",
       "      <td>2021-07-08 11:52:36+00:00</td>\n",
       "      <td>en</td>\n",
       "      <td>nice to see matt hancock’s taking the divorce well https://t.co/XF0nQhffSE</td>\n",
       "      <td>bfd/lds</td>\n",
       "      <td>nice to see matt hancock’s taking the divorce well</td>\n",
       "      <td>0.5994</td>\n",
       "      <td>0.412</td>\n",
       "      <td>0.000</td>\n",
       "      <td>0.588</td>\n",
       "      <td>positive</td>\n",
       "      <td>[nice, see, hancock, taking, divorce, well]</td>\n",
       "      <td>nice see hancock taking divorce well</td>\n",
       "    </tr>\n",
       "    <tr>\n",
       "      <th>91</th>\n",
       "      <td>2021-07-08 14:47:33+00:00</td>\n",
       "      <td>en</td>\n",
       "      <td>tested positive for corona so matt hancock can no longer fuck me</td>\n",
       "      <td>NaN</td>\n",
       "      <td>tested positive for corona so matt hancock can no longer fuck me</td>\n",
       "      <td>0.6428</td>\n",
       "      <td>0.365</td>\n",
       "      <td>0.125</td>\n",
       "      <td>0.510</td>\n",
       "      <td>positive</td>\n",
       "      <td>[tested, positive, corona, longer, fuck]</td>\n",
       "      <td>tested positive corona longer fuck</td>\n",
       "    </tr>\n",
       "    <tr>\n",
       "      <th>98</th>\n",
       "      <td>2021-07-09 10:39:47+00:00</td>\n",
       "      <td>en</td>\n",
       "      <td>RT @NeilClark66: I WILL NOT WEAR A FACE MASK WHEN I GO SHOPPING . Please retweet if you agree! Let’s show @matthancock @BorisJohnson @Keir_…</td>\n",
       "      <td>Hell, MI</td>\n",
       "      <td>I WILL NOT WEAR A FACE MASK WHEN I GO SHOPPING . Please retweet if you agree! Let’s show   …</td>\n",
       "      <td>0.6239</td>\n",
       "      <td>0.221</td>\n",
       "      <td>0.000</td>\n",
       "      <td>0.779</td>\n",
       "      <td>positive</td>\n",
       "      <td>[wear, face, mask, go, shopping, please, retweet, agree, let, show]</td>\n",
       "      <td>wear face mask go shopping please retweet agree let show</td>\n",
       "    </tr>\n",
       "    <tr>\n",
       "      <th>107</th>\n",
       "      <td>2021-07-10 13:50:34+00:00</td>\n",
       "      <td>en</td>\n",
       "      <td>@iNomCix matt hancock and boris APOLOGISE RN https://t.co/yLJUcLkizP</td>\n",
       "      <td>any pronouns |🏳️‍🌈| nd</td>\n",
       "      <td>matt hancock and boris APOLOGISE RN</td>\n",
       "      <td>0.5160</td>\n",
       "      <td>0.400</td>\n",
       "      <td>0.000</td>\n",
       "      <td>0.600</td>\n",
       "      <td>positive</td>\n",
       "      <td>[boris, apologise, rn]</td>\n",
       "      <td>boris apologise rn</td>\n",
       "    </tr>\n",
       "    <tr>\n",
       "      <th>110</th>\n",
       "      <td>2021-07-10 17:25:33+00:00</td>\n",
       "      <td>en</td>\n",
       "      <td>@doctor_oxford are you surprised? This is a former #matthancock &amp;amp; @matthewsgould club member. Another one that has… https://t.co/4dTQUeNkWD</td>\n",
       "      <td>United Kingdom</td>\n",
       "      <td>are you surprised? This is a former #matthancock &amp;amp;  club member. Another one that has…</td>\n",
       "      <td>0.2263</td>\n",
       "      <td>0.119</td>\n",
       "      <td>0.000</td>\n",
       "      <td>0.881</td>\n",
       "      <td>positive</td>\n",
       "      <td>[surprised, former, amp, club, member, another, one]</td>\n",
       "      <td>surprised former amp club member another one</td>\n",
       "    </tr>\n",
       "    <tr>\n",
       "      <th>111</th>\n",
       "      <td>2021-07-10 18:41:55+00:00</td>\n",
       "      <td>en</td>\n",
       "      <td>@stillgray The uks matt hancock and priti patel would be good opponents</td>\n",
       "      <td>UK</td>\n",
       "      <td>The uks matt hancock and priti patel would be good opponents</td>\n",
       "      <td>0.4404</td>\n",
       "      <td>0.225</td>\n",
       "      <td>0.000</td>\n",
       "      <td>0.775</td>\n",
       "      <td>positive</td>\n",
       "      <td>[uk, priti, patel, would, good, opponent]</td>\n",
       "      <td>uk priti patel would good opponent</td>\n",
       "    </tr>\n",
       "  </tbody>\n",
       "</table>\n",
       "</div>"
      ],
      "text/plain": [
       "                   created_at lang  \\\n",
       "1   2021-07-04 07:19:38+00:00   en   \n",
       "3   2021-07-04 10:17:28+00:00   en   \n",
       "4   2021-07-04 11:04:21+00:00   en   \n",
       "11  2021-07-04 19:56:07+00:00   en   \n",
       "19  2021-07-04 22:58:32+00:00   en   \n",
       "32  2021-07-05 23:31:01+00:00   en   \n",
       "33  2021-07-06 01:44:21+00:00   en   \n",
       "35  2021-07-06 08:07:47+00:00   en   \n",
       "46  2021-07-06 14:54:33+00:00   en   \n",
       "47  2021-07-06 17:55:00+00:00   en   \n",
       "54  2021-07-06 22:18:38+00:00   en   \n",
       "90  2021-07-08 11:52:36+00:00   en   \n",
       "91  2021-07-08 14:47:33+00:00   en   \n",
       "98  2021-07-09 10:39:47+00:00   en   \n",
       "107 2021-07-10 13:50:34+00:00   en   \n",
       "110 2021-07-10 17:25:33+00:00   en   \n",
       "111 2021-07-10 18:41:55+00:00   en   \n",
       "\n",
       "                                                                                                                                                text  \\\n",
       "1        @Lord_Sugar Glad to see someone agrees Liz, matt hancock. Was Good at rolling words off his tongue, he didn't have… https://t.co/Wowa6JVe3s   \n",
       "3           Lols 😆 #socialdistance #hancock #memes #matthancock #thewhitecross #londonbylondoners #richmond #summerinlondon… https://t.co/f8lXp90ZMd   \n",
       "4                                                                  RT @hassxn7: if matt hancock can get 2 women, maybe i won't die single after all.   \n",
       "11                                                                                             i acc want matt hancock back,,, atleast he gets pussy   \n",
       "19                No fucking about on here recently is there? Craig, sophay, matt hancock and now Joel Hughes absolutely smashed in the last week 😂😂   \n",
       "32          RT @Lucie_Grayy: matt hancock sleeping the night before Casa Amor getting ready to step on some toes #LoveIsland https://t.co/qyAsVOaeQp   \n",
       "33                                                                RT @EmmaSzewczak: why does matt hancock kiss like the sims https://t.co/iCsCaivmHt   \n",
       "35      While matt hancock was shagging about, palantir were showered with taxpayers £ with the blessing of the corrupt bre… https://t.co/G4L3H99gIV   \n",
       "46                                     RT @MorgsNicole_: praying that the photos of matt hancock are all we see - my eyes/stomach can't take a video   \n",
       "47                                                                RT @EmmaSzewczak: why does matt hancock kiss like the sims https://t.co/iCsCaivmHt   \n",
       "54                                                               @jvckdeeley @jujutsujosh u guys happy? looking for a matt hancock type situation? 😌   \n",
       "90                                                                        nice to see matt hancock’s taking the divorce well https://t.co/XF0nQhffSE   \n",
       "91                                                                                  tested positive for corona so matt hancock can no longer fuck me   \n",
       "98      RT @NeilClark66: I WILL NOT WEAR A FACE MASK WHEN I GO SHOPPING . Please retweet if you agree! Let’s show @matthancock @BorisJohnson @Keir_…   \n",
       "107                                                                             @iNomCix matt hancock and boris APOLOGISE RN https://t.co/yLJUcLkizP   \n",
       "110  @doctor_oxford are you surprised? This is a former #matthancock &amp; @matthewsgould club member. Another one that has… https://t.co/4dTQUeNkWD   \n",
       "111                                                                          @stillgray The uks matt hancock and priti patel would be good opponents   \n",
       "\n",
       "                     user.location  \\\n",
       "1                Plymouth, England   \n",
       "3                           London   \n",
       "4    17yrs of denying my existence   \n",
       "11                               💡   \n",
       "19            Wherever I am needed   \n",
       "32            Northampton, England   \n",
       "33                             NaN   \n",
       "35                       year zero   \n",
       "46                      London, UK   \n",
       "47                        she/they   \n",
       "54                             NaN   \n",
       "90                         bfd/lds   \n",
       "91                             NaN   \n",
       "98                        Hell, MI   \n",
       "107         any pronouns |🏳️‍🌈| nd   \n",
       "110                 United Kingdom   \n",
       "111                             UK   \n",
       "\n",
       "                                                                                                                            clean_tweet  \\\n",
       "1                              Glad to see someone agrees Liz, matt hancock. Was Good at rolling words off his tongue, he didn't have…    \n",
       "3                     Lols 😆 #socialdistance #hancock #memes #matthancock #thewhitecross #londonbylondoners #richmond #summerinlondon…    \n",
       "4                                                                  if matt hancock can get 2 women, maybe i won't die single after all.   \n",
       "11                                                                                i acc want matt hancock back,,, atleast he gets pussy   \n",
       "19   No fucking about on here recently is there? Craig, sophay, matt hancock and now Joel Hughes absolutely smashed in the last week 😂😂   \n",
       "32                                     matt hancock sleeping the night before Casa Amor getting ready to step on some toes #LoveIsland    \n",
       "33                                                                                            why does matt hancock kiss like the sims    \n",
       "35                While matt hancock was shagging about, palantir were showered with taxpayers £ with the blessing of the corrupt bre…    \n",
       "46                                          praying that the photos of matt hancock are all we see - my eyes/stomach can't take a video   \n",
       "47                                                                                            why does matt hancock kiss like the sims    \n",
       "54                                                                           u guys happy? looking for a matt hancock type situation? 😌   \n",
       "90                                                                                  nice to see matt hancock’s taking the divorce well    \n",
       "91                                                                     tested positive for corona so matt hancock can no longer fuck me   \n",
       "98                                         I WILL NOT WEAR A FACE MASK WHEN I GO SHOPPING . Please retweet if you agree! Let’s show   …   \n",
       "107                                                                                                matt hancock and boris APOLOGISE RN    \n",
       "110                                         are you surprised? This is a former #matthancock &amp;  club member. Another one that has…    \n",
       "111                                                                        The uks matt hancock and priti patel would be good opponents   \n",
       "\n",
       "     Compound  Positive  Negative  Neutral Sentiment  \\\n",
       "1      0.7717     0.325     0.000    0.675  positive   \n",
       "3      0.3612     0.185     0.000    0.815  positive   \n",
       "4      0.4847     0.195     0.000    0.805  positive   \n",
       "11     0.0772     0.126     0.000    0.874  positive   \n",
       "19     0.5574     0.187     0.148    0.665  positive   \n",
       "32     0.7579     0.317     0.000    0.683  positive   \n",
       "33     0.6486     0.469     0.000    0.531  positive   \n",
       "35     0.4939     0.151     0.000    0.849  positive   \n",
       "46     0.3612     0.128     0.000    0.872  positive   \n",
       "47     0.6486     0.469     0.000    0.531  positive   \n",
       "54     0.7691     0.400     0.000    0.600  positive   \n",
       "90     0.5994     0.412     0.000    0.588  positive   \n",
       "91     0.6428     0.365     0.125    0.510  positive   \n",
       "98     0.6239     0.221     0.000    0.779  positive   \n",
       "107    0.5160     0.400     0.000    0.600  positive   \n",
       "110    0.2263     0.119     0.000    0.881  positive   \n",
       "111    0.4404     0.225     0.000    0.775  positive   \n",
       "\n",
       "                                                                                    tokenised  \\\n",
       "1                       [glad, see, someone, agrees, liz, good, rolling, word, tongue, didnt]   \n",
       "3    [lols, socialdistance, meme, thewhitecross, londonbylondoners, richmond, summerinlondon]   \n",
       "4                                                   [get, 2, woman, maybe, wont, die, single]   \n",
       "11                                                     [acc, want, back, atleast, get, pussy]   \n",
       "19          [fucking, recently, craig, sophay, joel, hughes, absolutely, smashed, last, week]   \n",
       "32                       [sleeping, night, casa, amor, getting, ready, step, toe, loveisland]   \n",
       "33                                                                         [kiss, like, sims]   \n",
       "35                        [shagging, palantir, showered, taxpayer, £, blessing, corrupt, bre]   \n",
       "46                                      [praying, photo, see, eyesstomach, cant, take, video]   \n",
       "47                                                                         [kiss, like, sims]   \n",
       "54                                                  [u, guy, happy, looking, type, situation]   \n",
       "90                                                [nice, see, hancock, taking, divorce, well]   \n",
       "91                                                   [tested, positive, corona, longer, fuck]   \n",
       "98                        [wear, face, mask, go, shopping, please, retweet, agree, let, show]   \n",
       "107                                                                    [boris, apologise, rn]   \n",
       "110                                      [surprised, former, amp, club, member, another, one]   \n",
       "111                                                 [uk, priti, patel, would, good, opponent]   \n",
       "\n",
       "                                                                           clean_text  \n",
       "1                          glad see someone agrees liz good rolling word tongue didnt  \n",
       "3    lols socialdistance meme thewhitecross londonbylondoners richmond summerinlondon  \n",
       "4                                                   get 2 woman maybe wont die single  \n",
       "11                                                    acc want back atleast get pussy  \n",
       "19             fucking recently craig sophay joel hughes absolutely smashed last week  \n",
       "32                         sleeping night casa amor getting ready step toe loveisland  \n",
       "33                                                                     kiss like sims  \n",
       "35                         shagging palantir showered taxpayer £ blessing corrupt bre  \n",
       "46                                      praying photo see eyesstomach cant take video  \n",
       "47                                                                     kiss like sims  \n",
       "54                                                 u guy happy looking type situation  \n",
       "90                                               nice see hancock taking divorce well  \n",
       "91                                                 tested positive corona longer fuck  \n",
       "98                           wear face mask go shopping please retweet agree let show  \n",
       "107                                                                boris apologise rn  \n",
       "110                                      surprised former amp club member another one  \n",
       "111                                                uk priti patel would good opponent  "
      ]
     },
     "execution_count": 20,
     "metadata": {},
     "output_type": "execute_result"
    }
   ],
   "source": [
    "this_data_pos.head(100)"
   ]
  },
  {
   "cell_type": "markdown",
   "metadata": {},
   "source": [
    "# Sentiment Section\n",
    "Average sentiment by day"
   ]
  },
  {
   "cell_type": "code",
   "execution_count": 21,
   "metadata": {},
   "outputs": [
    {
     "name": "stdout",
     "output_type": "stream",
     "text": [
      "created_at\n",
      "2021-07-04 00:00:00+00:00    0.066590\n",
      "2021-07-05 00:00:00+00:00   -0.266469\n",
      "2021-07-06 00:00:00+00:00   -0.134104\n",
      "2021-07-07 00:00:00+00:00   -0.429712\n",
      "2021-07-08 00:00:00+00:00    0.157700\n",
      "2021-07-09 00:00:00+00:00   -0.080986\n",
      "2021-07-10 00:00:00+00:00   -0.056925\n",
      "Name: Compound, dtype: float64\n"
     ]
    }
   ],
   "source": [
    "#normalise the datetime to just date\n",
    "this_data['created_at'] = pd.to_datetime(this_data.created_at, utc=True).dt.normalize()\n",
    "sentiment_avg = this_data.groupby('created_at')['Compound'].mean()\n",
    "print(sentiment_avg)"
   ]
  },
  {
   "cell_type": "code",
   "execution_count": 22,
   "metadata": {},
   "outputs": [
    {
     "name": "stdout",
     "output_type": "stream",
     "text": [
      "created_at\n",
      "2021-07-04 00:00:00+00:00    20\n",
      "2021-07-05 00:00:00+00:00    13\n",
      "2021-07-06 00:00:00+00:00    24\n",
      "2021-07-07 00:00:00+00:00    33\n",
      "2021-07-08 00:00:00+00:00     6\n",
      "2021-07-09 00:00:00+00:00     7\n",
      "2021-07-10 00:00:00+00:00    12\n",
      "dtype: int64\n"
     ]
    }
   ],
   "source": [
    "daily_tweets = this_data.groupby('created_at').size()\n",
    "print(daily_tweets)"
   ]
  },
  {
   "cell_type": "code",
   "execution_count": 23,
   "metadata": {},
   "outputs": [],
   "source": [
    "this_data.to_pickle(\"MC_Week2\")"
   ]
  },
  {
   "cell_type": "code",
   "execution_count": 24,
   "metadata": {},
   "outputs": [
    {
     "data": {
      "text/plain": [
       "(-0.5, 0.5)"
      ]
     },
     "execution_count": 24,
     "metadata": {},
     "output_type": "execute_result"
    },
    {
     "data": {
      "image/png": "[encoded data removed]",
      "text/plain": [
       "<Figure size 720x360 with 1 Axes>"
      ]
     },
     "metadata": {
      "needs_background": "light"
     },
     "output_type": "display_data"
    }
   ],
   "source": [
    "plt.figure(figsize=[10, 5])\n",
    "plt.plot(sentiment_avg, marker='o')\n",
    "plt.grid(axis = 'y')\n",
    "plt.axhline(y = 0.05, color = 'black', linestyle = ':')\n",
    "plt.axhline(y = 0, color = 'black', linestyle = '-')\n",
    "plt.axhline(y = -0.05, color = 'black', linestyle = ':')\n",
    "plt.title(\"Average Daily Sentiment Score\")\n",
    "plt.xticks(rotation = 45)\n",
    "plt.xlabel('Date', fontsize = 10)\n",
    "plt.ylabel('Topic Coherence', fontsize = 10)\n",
    "plt.ylim([-0.5, 0.5])"
   ]
  },
  {
   "cell_type": "markdown",
   "metadata": {},
   "source": [
    "# LDA Section"
   ]
  },
  {
   "cell_type": "markdown",
   "metadata": {},
   "source": [
    "# Finding best K"
   ]
  },
  {
   "cell_type": "code",
   "execution_count": 25,
   "metadata": {},
   "outputs": [],
   "source": [
    "def topic_coherence(model, n_top_words, pair_score):\n",
    "    coherences = []\n",
    "    for topic_idx, topic in enumerate(model.components_):\n",
    "        top_features_ind = topic.argsort()[:-n_top_words - 1:-1]\n",
    "        coh = 0\n",
    "        for i in range(len(top_features_ind)):\n",
    "            for j in range(i):\n",
    "                coh += pair_score[top_features_ind[i], top_features_ind[j]]\n",
    "        coherences.append(coh)\n",
    "    return coherences"
   ]
  },
  {
   "cell_type": "markdown",
   "metadata": {},
   "source": [
    "## Positive Data-set"
   ]
  },
  {
   "cell_type": "code",
   "execution_count": 26,
   "metadata": {},
   "outputs": [
    {
     "name": "stdout",
     "output_type": "stream",
     "text": [
      "(17, 6)\n"
     ]
    }
   ],
   "source": [
    "# the vectorizer object will be used to transform text to vector form\n",
    "vectorizer_pos = CountVectorizer(max_df=0.95, min_df=2)\n",
    "\n",
    "# apply transformation\n",
    "tf_pos = vectorizer_pos.fit_transform(this_data_pos['clean_text']) #.toarray()\n",
    "\n",
    "# tf_feature_names tells us what word each column in the matric represents\n",
    "tf_pos_feature_names = vectorizer_pos.get_feature_names()\n",
    "\n",
    "# check dimensions\n",
    "print(tf_pos.shape)"
   ]
  },
  {
   "cell_type": "code",
   "execution_count": 27,
   "metadata": {},
   "outputs": [],
   "source": [
    "Dwi = np.array(np.sum(tf_pos > 0, axis=0))[0]\n",
    "\n",
    "W_bin = tf_pos\n",
    "W_bin[W_bin > 0] = 1\n",
    "Dwi_wj = W_bin.T @ W_bin\n",
    "\n",
    "score_umass_pos = np.log((Dwi_wj.toarray() + 1)/ Dwi)"
   ]
  },
  {
   "cell_type": "code",
   "execution_count": 28,
   "metadata": {},
   "outputs": [
    {
     "name": "stdout",
     "output_type": "stream",
     "text": [
      "running k = 2\n",
      "running k = 3\n",
      "running k = 4\n",
      "running k = 5\n",
      "running k = 6\n",
      "running k = 7\n",
      "running k = 8\n",
      "running k = 9\n",
      "running k = 10\n",
      "0.17313694953918457 seconds\n"
     ]
    }
   ],
   "source": [
    "t0 = time.time()\n",
    "ks = [2, 3, 4, 5, 6, 7, 8, 9, 10]\n",
    "pos_topic_cohs = []\n",
    "for k in ks:\n",
    "    print(f'running k = {k}')\n",
    "    this_coh = []\n",
    "    this_model_pos = LatentDirichletAllocation(n_components=k, random_state=0)\n",
    "    this_model_pos.fit(tf_pos)\n",
    "    this_coh.append(np.median(topic_coherence(this_model_pos, 10, score_umass_pos)))\n",
    "    pos_topic_cohs.append(this_coh)\n",
    "    \n",
    "t1 = time.time()\n",
    "\n",
    "total = t1-t0\n",
    "print(total, 'seconds')"
   ]
  },
  {
   "cell_type": "code",
   "execution_count": 29,
   "metadata": {},
   "outputs": [
    {
     "data": {
      "text/plain": [
       "[[-7.624618986159399],\n",
       " [-7.6246189861593985],\n",
       " [-7.827351540213481],\n",
       " [-7.6246189861593985],\n",
       " [-8.030084094267565],\n",
       " [-8.435549202375729],\n",
       " [-8.435549202375729],\n",
       " [-8.435549202375729],\n",
       " [-8.030084094267565]]"
      ]
     },
     "execution_count": 29,
     "metadata": {},
     "output_type": "execute_result"
    }
   ],
   "source": [
    "pos_topic_cohs"
   ]
  },
  {
   "cell_type": "code",
   "execution_count": 30,
   "metadata": {},
   "outputs": [
    {
     "data": {
      "text/plain": [
       "[<matplotlib.lines.Line2D at 0x7fe8cbda6290>]"
      ]
     },
     "execution_count": 30,
     "metadata": {},
     "output_type": "execute_result"
    },
    {
     "data": {
      "image/png": "[encoded data removed]",
      "text/plain": [
       "<Figure size 432x288 with 1 Axes>"
      ]
     },
     "metadata": {
      "needs_background": "light"
     },
     "output_type": "display_data"
    }
   ],
   "source": [
    "plt.plot(ks, pos_topic_cohs)"
   ]
  },
  {
   "cell_type": "markdown",
   "metadata": {},
   "source": [
    "## Negative Data-set"
   ]
  },
  {
   "cell_type": "code",
   "execution_count": 31,
   "metadata": {},
   "outputs": [
    {
     "name": "stdout",
     "output_type": "stream",
     "text": [
      "(57, 54)\n"
     ]
    }
   ],
   "source": [
    "# the vectorizer object will be used to transform text to vector form\n",
    "vectorizer_neg = CountVectorizer(max_df=0.95, min_df=2)\n",
    "\n",
    "# apply transformation\n",
    "tf_neg = vectorizer_neg.fit_transform(this_data_neg['clean_text']) #.toarray()\n",
    "\n",
    "# tf_feature_names tells us what word each column in the matric represents\n",
    "tf_neg_feature_names = vectorizer_neg.get_feature_names()\n",
    "\n",
    "# check dimensions\n",
    "print(tf_neg.shape)"
   ]
  },
  {
   "cell_type": "code",
   "execution_count": 32,
   "metadata": {},
   "outputs": [],
   "source": [
    "Dwi_neg = np.array(np.sum(tf_neg > 0, axis=0))[0]\n",
    "\n",
    "W_bin_neg = tf_neg\n",
    "W_bin_neg[W_bin_neg > 0] = 1\n",
    "Dwi_wj_neg = W_bin_neg.T @ W_bin_neg\n",
    "\n",
    "score_umass_neg = np.log((Dwi_wj_neg.toarray() + 1)/ Dwi_neg)"
   ]
  },
  {
   "cell_type": "code",
   "execution_count": 33,
   "metadata": {},
   "outputs": [
    {
     "name": "stdout",
     "output_type": "stream",
     "text": [
      "running k = 2\n",
      "running k = 3\n",
      "running k = 4\n",
      "running k = 5\n",
      "running k = 6\n",
      "running k = 7\n",
      "running k = 8\n",
      "running k = 9\n",
      "running k = 10\n",
      "0.5887980461120605 seconds\n"
     ]
    }
   ],
   "source": [
    "t0 = time.time()\n",
    "ks = [2, 3, 4, 5, 6, 7, 8, 9, 10]\n",
    "neg_topic_cohs = []\n",
    "for k in ks:\n",
    "    print(f'running k = {k}')\n",
    "    this_coh = []\n",
    "    this_model_neg = LatentDirichletAllocation(n_components=k, random_state=0)\n",
    "    this_model_neg.fit(tf_neg)\n",
    "    this_coh.append(np.median(topic_coherence(this_model_neg, 10, score_umass_neg)))\n",
    "    neg_topic_cohs.append(this_coh)\n",
    "    \n",
    "t1 = time.time()\n",
    "\n",
    "total = t1-t0\n",
    "print(total, 'seconds')"
   ]
  },
  {
   "cell_type": "code",
   "execution_count": 34,
   "metadata": {},
   "outputs": [
    {
     "data": {
      "text/plain": [
       "[[-39.59649605330824],\n",
       " [-5.505586101669931],\n",
       " [-20.063133279504882],\n",
       " [-5.505586101669931],\n",
       " [-20.087717202860052],\n",
       " [-20.27898840565686],\n",
       " [-21.764505540948356],\n",
       " [-17.676298720212486],\n",
       " [-30.968868699496127]]"
      ]
     },
     "execution_count": 34,
     "metadata": {},
     "output_type": "execute_result"
    }
   ],
   "source": [
    "neg_topic_cohs"
   ]
  },
  {
   "cell_type": "code",
   "execution_count": 35,
   "metadata": {},
   "outputs": [
    {
     "data": {
      "text/plain": [
       "[<matplotlib.lines.Line2D at 0x7fe8cbf3c050>]"
      ]
     },
     "execution_count": 35,
     "metadata": {},
     "output_type": "execute_result"
    },
    {
     "data": {
      "image/png": "[encoded data removed]",
      "text/plain": [
       "<Figure size 432x288 with 1 Axes>"
      ]
     },
     "metadata": {
      "needs_background": "light"
     },
     "output_type": "display_data"
    }
   ],
   "source": [
    "plt.plot(ks, neg_topic_cohs)"
   ]
  },
  {
   "cell_type": "markdown",
   "metadata": {},
   "source": [
    "## Neutral Data-set"
   ]
  },
  {
   "cell_type": "code",
   "execution_count": 36,
   "metadata": {},
   "outputs": [
    {
     "name": "stdout",
     "output_type": "stream",
     "text": [
      "(41, 32)\n"
     ]
    }
   ],
   "source": [
    "# the vectorizer object will be used to transform text to vector form\n",
    "vectorizer_neu = CountVectorizer(max_df=0.95, min_df=2)\n",
    "\n",
    "# apply transformation\n",
    "tf_neu = vectorizer_neu.fit_transform(this_data_neu['clean_text']) #.toarray()\n",
    "\n",
    "# tf_feature_names tells us what word each column in the matric represents\n",
    "tf_neu_feature_names = vectorizer_neu.get_feature_names()\n",
    "\n",
    "# check dimensions\n",
    "print(tf_neu.shape)"
   ]
  },
  {
   "cell_type": "code",
   "execution_count": 37,
   "metadata": {},
   "outputs": [],
   "source": [
    "Dwi_neu = np.array(np.sum(tf_neu > 0, axis=0))[0]\n",
    "\n",
    "W_bin_neu = tf_neu\n",
    "W_bin_neu[W_bin_neu > 0] = 1\n",
    "Dwi_wj_neu = W_bin_neu.T @ W_bin_neu\n",
    "\n",
    "score_umass_neu = np.log((Dwi_wj_neu.toarray() + 1)/ Dwi_neu)"
   ]
  },
  {
   "cell_type": "code",
   "execution_count": 38,
   "metadata": {},
   "outputs": [
    {
     "name": "stdout",
     "output_type": "stream",
     "text": [
      "running k = 2\n",
      "running k = 3\n",
      "running k = 4\n",
      "running k = 5\n",
      "running k = 6\n",
      "running k = 7\n",
      "running k = 8\n",
      "running k = 9\n",
      "running k = 10\n",
      "0.5028610229492188 seconds\n"
     ]
    }
   ],
   "source": [
    "t0 = time.time()\n",
    "ks = [2, 3, 4, 5, 6, 7, 8, 9, 10]\n",
    "neu_topic_cohs = []\n",
    "for k in ks:\n",
    "    print(f'running k = {k}')\n",
    "    this_coh = []\n",
    "    this_model_neu = LatentDirichletAllocation(n_components=k, random_state=0)\n",
    "    this_model_neu.fit(tf_neu)\n",
    "    this_coh.append(np.median(topic_coherence(this_model_neu, 10, score_umass_neu)))\n",
    "    neu_topic_cohs.append(this_coh)\n",
    "    \n",
    "t1 = time.time()\n",
    "\n",
    "total = t1-t0\n",
    "print(total, 'seconds')"
   ]
  },
  {
   "cell_type": "code",
   "execution_count": 39,
   "metadata": {},
   "outputs": [
    {
     "data": {
      "text/plain": [
       "[[-3.2941250591975653],\n",
       " [-5.210726584178398],\n",
       " [-16.778252386602766],\n",
       " [-21.424834367038727],\n",
       " [-24.951897252783944],\n",
       " [-20.459753470995135],\n",
       " [-18.635773865309364],\n",
       " [-17.806659827007596],\n",
       " [-17.113512646447646]]"
      ]
     },
     "execution_count": 39,
     "metadata": {},
     "output_type": "execute_result"
    }
   ],
   "source": [
    "neu_topic_cohs"
   ]
  },
  {
   "cell_type": "code",
   "execution_count": 40,
   "metadata": {},
   "outputs": [
    {
     "data": {
      "text/plain": [
       "[<matplotlib.lines.Line2D at 0x7fe8cbf459d0>]"
      ]
     },
     "execution_count": 40,
     "metadata": {},
     "output_type": "execute_result"
    },
    {
     "data": {
      "image/png": "[encoded data removed]",
      "text/plain": [
       "<Figure size 432x288 with 1 Axes>"
      ]
     },
     "metadata": {
      "needs_background": "light"
     },
     "output_type": "display_data"
    }
   ],
   "source": [
    "plt.plot(ks, neu_topic_cohs)"
   ]
  },
  {
   "cell_type": "markdown",
   "metadata": {},
   "source": [
    "# Running on best k"
   ]
  },
  {
   "cell_type": "code",
   "execution_count": 41,
   "metadata": {},
   "outputs": [
    {
     "data": {
      "text/plain": [
       "Text(0, 0.5, 'Topic Coherence')"
      ]
     },
     "execution_count": 41,
     "metadata": {},
     "output_type": "execute_result"
    },
    {
     "data": {
      "image/png": "[encoded data removed]",
      "text/plain": [
       "<Figure size 1080x576 with 1 Axes>"
      ]
     },
     "metadata": {
      "needs_background": "light"
     },
     "output_type": "display_data"
    }
   ],
   "source": [
    "plt.figure(figsize=[15, 8])\n",
    "plt.title(\"Matt Hancock Week 2\", fontsize = 15)\n",
    "plt.plot(ks, pos_topic_cohs, label = 'Positive', marker='o', color = 'g')\n",
    "plt.plot(ks, neg_topic_cohs, label = 'Negative', marker='o', color = 'r')\n",
    "plt.plot(ks, neu_topic_cohs, label = 'Neutral', marker='o', color = 'b')\n",
    "plt.legend(prop={\"size\":15})\n",
    "plt.xlabel('Values for k', fontsize = 15)\n",
    "plt.ylabel('Topic Coherence', fontsize = 15)"
   ]
  },
  {
   "cell_type": "code",
   "execution_count": 42,
   "metadata": {},
   "outputs": [],
   "source": [
    "def plot_top_words(model, feature_names, n_top_words, title):\n",
    "    \"\"\"Function to plot topic models\"\"\"\n",
    "    fig, axes = plt.subplots(2, 3, figsize=(15, 15), sharex=True)\n",
    "    axes = axes.flatten()\n",
    "    for topic_idx, topic in enumerate(model.components_):\n",
    "        top_features_ind = topic.argsort()[:-n_top_words - 1:-1]\n",
    "        top_features = [feature_names[i] for i in top_features_ind]\n",
    "        weights = topic[top_features_ind]\n",
    "\n",
    "        ax = axes[topic_idx]\n",
    "        ax.barh(top_features, weights, height=0.7)\n",
    "        ax.set_title(f'Topic {topic_idx +1}',\n",
    "                     fontdict={'fontsize': 20})\n",
    "        ax.invert_yaxis()\n",
    "        ax.tick_params(axis='both', which='major', labelsize=20)\n",
    "        for i in 'top right left'.split():\n",
    "            ax.spines[i].set_visible(False)\n",
    "        fig.suptitle(title, fontsize=40)\n",
    "\n",
    "    plt.subplots_adjust(top=0.90, bottom=0.05, wspace=0.90, hspace=0.3)\n",
    "    plt.show()"
   ]
  },
  {
   "cell_type": "markdown",
   "metadata": {},
   "source": [
    "## Positive Data-Set"
   ]
  },
  {
   "cell_type": "code",
   "execution_count": 43,
   "metadata": {},
   "outputs": [],
   "source": [
    "# Choose based on above results\n",
    "number_of_topics = 2\n",
    "n_top_words = 10"
   ]
  },
  {
   "cell_type": "code",
   "execution_count": 44,
   "metadata": {},
   "outputs": [
    {
     "name": "stdout",
     "output_type": "stream",
     "text": [
      "0.019863128662109375 seconds\n"
     ]
    }
   ],
   "source": [
    "# model\n",
    "model_pos = LatentDirichletAllocation(n_components=number_of_topics, random_state=0) # random state for reproducibility\n",
    "\n",
    "# Fit data to model\n",
    "t0 = time.time()\n",
    "model_pos.fit(tf_pos)\n",
    "t1 = time.time()\n",
    "\n",
    "total = t1-t0\n",
    "print(total, 'seconds') #note: 615.2014217376709 seconds"
   ]
  },
  {
   "cell_type": "code",
   "execution_count": 45,
   "metadata": {},
   "outputs": [
    {
     "data": {
      "image/png": "[encoded data removed]",
      "text/plain": [
       "<Figure size 1080x1080 with 6 Axes>"
      ]
     },
     "metadata": {
      "needs_background": "light"
     },
     "output_type": "display_data"
    }
   ],
   "source": [
    "# Names of words \n",
    "plot_top_words(model_pos, tf_pos_feature_names, n_top_words, 'Topics in positive LDA model')"
   ]
  },
  {
   "cell_type": "markdown",
   "metadata": {},
   "source": [
    "## Negative Data-Set"
   ]
  },
  {
   "cell_type": "code",
   "execution_count": 46,
   "metadata": {},
   "outputs": [],
   "source": [
    "# Choose based on above results\n",
    "number_of_topics = 3\n",
    "n_top_words = 10"
   ]
  },
  {
   "cell_type": "code",
   "execution_count": 47,
   "metadata": {},
   "outputs": [
    {
     "name": "stdout",
     "output_type": "stream",
     "text": [
      "0.07284998893737793 seconds\n"
     ]
    }
   ],
   "source": [
    "# model\n",
    "model_neg = LatentDirichletAllocation(n_components=number_of_topics, random_state=0) # random state for reproducibility\n",
    "\n",
    "# Fit data to model\n",
    "t0 = time.time()\n",
    "model_neg.fit(tf_neg)\n",
    "t1 = time.time()\n",
    "\n",
    "total = t1-t0\n",
    "print(total, 'seconds') #note: 615.2014217376709 seconds"
   ]
  },
  {
   "cell_type": "code",
   "execution_count": 48,
   "metadata": {},
   "outputs": [
    {
     "data": {
      "image/png": "[encoded data removed]",
      "text/plain": [
       "<Figure size 1080x1080 with 6 Axes>"
      ]
     },
     "metadata": {
      "needs_background": "light"
     },
     "output_type": "display_data"
    }
   ],
   "source": [
    "# Names of words \n",
    "plot_top_words(model_neg, tf_neg_feature_names, n_top_words, 'Topics in negative LDA model')"
   ]
  },
  {
   "cell_type": "markdown",
   "metadata": {},
   "source": [
    "## Neutral Data-Set"
   ]
  },
  {
   "cell_type": "code",
   "execution_count": 49,
   "metadata": {},
   "outputs": [],
   "source": [
    "# Choose based on above results\n",
    "number_of_topics = 2\n",
    "n_top_words = 10"
   ]
  },
  {
   "cell_type": "code",
   "execution_count": 50,
   "metadata": {},
   "outputs": [
    {
     "name": "stdout",
     "output_type": "stream",
     "text": [
      "0.07863116264343262 seconds\n"
     ]
    }
   ],
   "source": [
    "# model\n",
    "model_neu = LatentDirichletAllocation(n_components=number_of_topics, random_state=0) # random state for reproducibility\n",
    "\n",
    "# Fit data to model\n",
    "t0 = time.time()\n",
    "model_neu.fit(tf_neu)\n",
    "t1 = time.time()\n",
    "\n",
    "total = t1-t0\n",
    "print(total, 'seconds') #note: 615.2014217376709 seconds"
   ]
  },
  {
   "cell_type": "code",
   "execution_count": 51,
   "metadata": {},
   "outputs": [
    {
     "data": {
      "image/png": "[encoded data removed]",
      "text/plain": [
       "<Figure size 1080x1080 with 6 Axes>"
      ]
     },
     "metadata": {
      "needs_background": "light"
     },
     "output_type": "display_data"
    }
   ],
   "source": [
    "# Names of words \n",
    "plot_top_words(model_neu, tf_neu_feature_names, n_top_words, 'Topics in neutral LDA model')"
   ]
  },
  {
   "cell_type": "code",
   "execution_count": null,
   "metadata": {},
   "outputs": [],
   "source": []
  },
  {
   "cell_type": "code",
   "execution_count": null,
   "metadata": {},
   "outputs": [],
   "source": []
  }
 ],
 "metadata": {
  "kernelspec": {
   "display_name": "Python 3",
   "language": "python",
   "name": "python3"
  },
  "language_info": {
   "codemirror_mode": {
    "name": "ipython",
    "version": 3
   },
   "file_extension": ".py",
   "mimetype": "text/x-python",
   "name": "python",
   "nbconvert_exporter": "python",
   "pygments_lexer": "ipython3",
   "version": "3.7.7"
  }
 },
 "nbformat": 4,
 "nbformat_minor": 4
}
